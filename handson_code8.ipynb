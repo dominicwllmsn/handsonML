{
 "cells": [
  {
   "cell_type": "code",
   "execution_count": 4,
   "metadata": {
    "ExecuteTime": {
     "end_time": "2020-08-03T22:46:38.658266Z",
     "start_time": "2020-08-03T22:46:38.656033Z"
    }
   },
   "outputs": [],
   "source": [
    "# Many Machine Learning problems involve thousands or even millions of features for each training instance. Not only do all\n",
    "# these features make training extremely slow, but they can also make it much harder to find a good solution, as we will\n",
    "# see. This problem is often referred to as the curse of dimensionality. Fortunately, in real-world problems, it is often\n",
    "# possible to reduce the number of features considerably, turning an intractable problem into a tractable one. For example\n",
    "# consider the MNIST images: the pixels on the image borders are almost always white, so you could completely drop these\n",
    "# pixels from the training set without losing much information. Figure 7-6 confirms that these pixels are utterly\n",
    "# unimportant for the classification task. Additionally, two neighboring pixels are often highly correlated: if you merge\n",
    "# them into a single pixel (e.g., by taking the mean of the two pixel intensities), you will not lose much information.\n",
    "\n",
    "# Reducing dimensionality does cause some information loss (just like compressing an image to JPEG can degrade its\n",
    "# quality), so even though it will speed up training, it may make your system perform slightly worse. It also makes your\n",
    "# pipelines a bit more complex and thus harder to maintain. So, if training is too slow, you should first try to train\n",
    "# your system with the original data before considering using dimensionality reduction. In some cases, reducing the\n",
    "# dimensionality of the training data may filter out some noise and unnecessary details and thus result in higher\n",
    "# performance, but in general it won’t; it will just speed up training.\n",
    "\n",
    "# Dimensionality reduction is also used for data visualization - reducing to 2D or 3D means we can plot a condensed view of\n",
    "# high-dimensional training data and often gain important insights by visually detecting patterns like clusters. DataViz\n",
    "# is also useful in communicating your conclusions to non data scientitsts."
   ]
  },
  {
   "cell_type": "code",
   "execution_count": 5,
   "metadata": {
    "ExecuteTime": {
     "end_time": "2020-08-03T22:46:38.662191Z",
     "start_time": "2020-08-03T22:46:38.659484Z"
    }
   },
   "outputs": [],
   "source": [
    "# Curse of Dimensionality\n",
    "# In low dimensional space, the probability that a random point is 'extreme' or close to the border of some enclosing shape\n",
    "# is small (for instance in a unit square). In high dimensions, like a 10000-D hypercube, the probability is extremely\n",
    "# high - most points in such a hypercube are very close to the border (i.e. if you consider enough dimensions, the chance\n",
    "# that any one of the coordinates is close to the border is very high).\n",
    "\n",
    "# A more troublesome difference is that if you pick two points randomly in a unit square, the distance between these two\n",
    "# points will be, on average, roughly 0.52. If you pick two random points in a unit 3D cube, the average distance will be\n",
    "# roughly 0.66. But what about two points picked randomly in a 1,000,000-dimensional hypercube? The average distance,\n",
    "# believe it or not, will be about 408.25 (roughly 1, 000, 000/6)! This is counterintuitive: how can two points be so far\n",
    "# apart when they both lie within the same unit hypercube? Well, there’s just plenty of space in high dimensions. As a\n",
    "# result, high-dimensional datasets are at risk of being very sparse: most training instances are likely to be far away\n",
    "# from each other. This also means that a new instance will likely be far away from any training instance, making\n",
    "# predictions much less reliable than in lower dimensions, since they will be based on much larger extrapolations. In\n",
    "# short, the more dimensions the training set has, the greater the risk of overfitting it.\n",
    "\n",
    "# In theory, one solution to the curse of dimensionality could be to increase the size of the training set to reach a\n",
    "# sufficient density of training instances. Unfortunately, in practice, the number of training instances required to\n",
    "# reach a given density grows exponentially with the number of dimensions. With just 100 features (significantly fewer\n",
    "# than in the MNIST problem), you would need more training instances than atoms in the observable universe in order for\n",
    "# training instances to be within 0.1 of each other on average, assuming they were spread out uniformly across all\n",
    "# dimensions."
   ]
  },
  {
   "cell_type": "code",
   "execution_count": 6,
   "metadata": {
    "ExecuteTime": {
     "end_time": "2020-08-03T22:46:38.665742Z",
     "start_time": "2020-08-03T22:46:38.663465Z"
    }
   },
   "outputs": [],
   "source": [
    "# The main approaches to dimensionality reduction are projection and Manifold Learning.\n",
    "# In most real-world problems, training instances are not spread out uniformly across all dimensions. Many features are\n",
    "# almost constant, while others are highly correlated (as discussed earlier for MNIST). As a result, all training instances\n",
    "# lie within (or close to) a much lower-dimensional subspace of the high-dimensional space. For instance, points in 3D\n",
    "# space may lie close to a plane (a 2D subspace of the high dimensional 3D space). Projecting the data perpendicularly onto\n",
    "# this subspace, we get a 2D dataset, reducing the dimensionality and producing two new features for the data relative\n",
    "# to this 2D subspace (the coordinates of the projections).\n",
    "\n",
    "# Projection is not always the best approach - in many cases the subspace may twist and turn, such as for the 3D Swiss Roll\n",
    "# toy dataset. Projecting this onto a plane (such as by dropping x3) squashes different layers of the roll together -\n",
    "# ideally we would want to 'unroll' the data onto a 2D subspace (very likely with new features). This Swiss Roll is a form\n",
    "# of 2D manigold - a 2D shape that can be bent and twisted into a higher-dimensional space. In general a d-dim manifold\n",
    "# is part of an n-dim space (where d < n) that locally resembles a d-dim hyperplane (so above, d=2, n=3: it resembles\n",
    "# a 2D plane but is rolled in the third dimension).\n",
    "\n",
    "# Many dimensionality reduction algorithms work by modeling the manifold on which the training instances lie; this is\n",
    "# called Manifold Learning. It relies on the manifold assumption, also called the manifold hypothesis, which holds that\n",
    "# most real-world high-dimensional datasets lie close to a much lower-dimensional manifold. This assumption is very often\n",
    "# empirically observed.\n",
    "# Once again, think about the MNIST dataset: all handwritten digit images have some similarities. They are made of\n",
    "# connected lines, the borders are white, and they are more or less centered. If you randomly generated images, only a\n",
    "# ridiculously tiny fraction of them would look like handwritten digits. In other words, the degrees of freedom available\n",
    "# to you if you try to create a digit image are dramatically lower than the degrees of freedom you would have if you were\n",
    "# allowed to generate any image you wanted. These constraints tend to squeeze the dataset into a lower-dimensional\n",
    "# manifold.\n",
    "# The manifold assumption is often accompanied by another implicit assumption: that the task at hand (e.g., classification\n",
    "# or regression) will be simpler if expressed in the lower-dimensional space of the manifold. For example, in the top row\n",
    "# of Figure 8-6 the Swiss roll is split into two classes: in the 3D space (on the left), the decision boundary would be\n",
    "# fairly complex, but in the 2D unrolled manifold space (on the right), the decision boundary is a straight line.\n",
    "# However, this implicit assumption does not always hold. For example, in the bottom row of Figure 8-6, the decision\n",
    "# boundary is located at x1 = 5. This decision boundary looks very simple in the original 3D space (a vertical plane), but\n",
    "# it looks more complex in the unrolled manifold (a collection of four independent line segments).\n",
    "# In short, reducing the dimensionality of your training set before training a model will usually speed up training, but\n",
    "# it may not always lead to a better or simpler solution; it all depends on the dataset."
   ]
  },
  {
   "cell_type": "code",
   "execution_count": 7,
   "metadata": {
    "ExecuteTime": {
     "end_time": "2020-08-03T22:46:38.694515Z",
     "start_time": "2020-08-03T22:46:38.666975Z"
    }
   },
   "outputs": [
    {
     "name": "stdout",
     "output_type": "stream",
     "text": [
      "[[ 0.51194429 -0.17295472  0.84142719]\n",
      " [-0.85454939 -0.20232689  0.47834001]\n",
      " [-0.08751218  0.96392453  0.25137844]]\n"
     ]
    }
   ],
   "source": [
    "# Principal Component Analysis (PCA) is the most popular dimenionality-reduction algorithm - it identifies the hyperplane\n",
    "# that lies closest to the data, then projects the data onto it.\n",
    "\n",
    "# First, the right hyperplane needs to be chosen. Of the many possible choices of hyperplane, we want to select the one\n",
    "# that preserves the maximum amount of variance in the data, as it will most likely lose less information than other\n",
    "# projections. In the case of a 2D dataset, this is the axis along which the maximum amount of variance is preserved.\n",
    "# In a different sense, this will be the same axis that minimizes the mean squared distance between the original dataset\n",
    "# and its projection onto that axis - this is the simple idea behind PCA.\n",
    "# Secondly, after finding the above axis it finds a second one, orthogonal to the first, which accounts for the\n",
    "# largest amount of remaining variance. The algorithm then finds a third, orthogonal to both previous axes, and a fourth,\n",
    "# and continues until it has as many axes as dimensionality of the dataset.\n",
    "\n",
    "# The ith axis is called the ith principal component (PC) of the data.\n",
    "# N.B. For each principal component, PCA finds a zero-centered unit vector pointing in the direction of the PC. Since two\n",
    "# opposing unit vectors lie on the same axis, the direction of the unit vectors returned by PCA is not stable: if you\n",
    "# perturb the training set slightly and run PCA again, the unit vectors may point in the opposite direction as the original\n",
    "# vectors. However, they will generally still lie on the same axes. In some cases, a pair of unit vectors may even rotate\n",
    "# or swap (if the variances along these two axes are close), but the plane they define will generally remain the same.\n",
    "\n",
    "# The PCs are found via Singular Value Decomposition (SVD): this decomposes the training set matrix X into a matrix\n",
    "# multiplication of three matrices U Σ V⊺, where V contains the unit vectors that define all the principal components that\n",
    "# we are looking for (contained as the columns of V).\n",
    "\n",
    "import numpy as np\n",
    "\n",
    "np.random.seed(42)\n",
    "X = 5*np.random.rand(10, 3)\n",
    "\n",
    "# PCA assumes the dataset is centered about the origin - sklearn PCA classes do this themselves but when using\n",
    "# personal implementations or other libraries it may be required to center the data first.\n",
    "\n",
    "# mean taken along the rows (collapse rows), so mean for each coordinate/feature.\n",
    "X_centered = X - X.mean(axis=0)\n",
    "# have to transpose Vt to get V (without any transpose), then each PC is a column of V\n",
    "U, s, Vt = np.linalg.svd(X_centered)\n",
    "print(Vt.T)"
   ]
  },
  {
   "cell_type": "code",
   "execution_count": 8,
   "metadata": {
    "ExecuteTime": {
     "end_time": "2020-08-03T22:46:38.699436Z",
     "start_time": "2020-08-03T22:46:38.695537Z"
    }
   },
   "outputs": [
    {
     "name": "stdout",
     "output_type": "stream",
     "text": [
      "[[1.87270059 4.75357153 3.65996971]\n",
      " [2.99329242 0.7800932  0.7799726 ]\n",
      " [0.29041806 4.33088073 3.00557506]]\n",
      "[[-2.42118524  0.95037868]\n",
      " [ 1.80006367 -1.21559131]\n",
      " [-2.81274807  0.67877657]]\n"
     ]
    }
   ],
   "source": [
    "# Once the PCs have been found, the dataset can be reduced to d dimensions by projecting it onto the hyperplane defined\n",
    "# by the first d PCs - this hyperplane preserves as much variance as possible (so the projection is as 'truthful' as \n",
    "# possible). Defining W_d as the matrix contatining the first d columns of V, we get the reduced X: X_dproj = X.W_d \n",
    "\n",
    "W2 = Vt.T[:, :2]\n",
    "X2D = X_centered.dot(W2)\n",
    "print(X[:3], X2D[:3], sep='\\n')"
   ]
  },
  {
   "cell_type": "code",
   "execution_count": 9,
   "metadata": {
    "ExecuteTime": {
     "end_time": "2020-08-03T22:46:38.707209Z",
     "start_time": "2020-08-03T22:46:38.700292Z"
    }
   },
   "outputs": [
    {
     "data": {
      "text/plain": [
       "array([[-0.51194429, -0.17295472],\n",
       "       [ 0.85454939, -0.20232689],\n",
       "       [ 0.08751218,  0.96392453]])"
      ]
     },
     "execution_count": 9,
     "metadata": {},
     "output_type": "execute_result"
    }
   ],
   "source": [
    "# Scikit-Learn's PCA class uses SVD decomposition to implement PCA, as above. Once fitted, the components_ attribute holds\n",
    "# the transpose of W_d\n",
    "\n",
    "from sklearn.decomposition import PCA\n",
    "pca = PCA(n_components=2)\n",
    "X2D = pca.fit_transform(X)\n",
    "\n",
    "pca.components_.T"
   ]
  },
  {
   "cell_type": "code",
   "execution_count": 10,
   "metadata": {
    "ExecuteTime": {
     "end_time": "2020-08-03T22:46:38.712180Z",
     "start_time": "2020-08-03T22:46:38.708046Z"
    }
   },
   "outputs": [
    {
     "data": {
      "text/plain": [
       "array([0.50114049, 0.35591274])"
      ]
     },
     "execution_count": 10,
     "metadata": {},
     "output_type": "execute_result"
    }
   ],
   "source": [
    "# The explained variance ratio of each PC indicates the proportion of the dataset's varaince that lies along each PC.\n",
    "# This output, via the explained_variance_ratio_ attribute, tells us that 50.1% of the datasets variance lies along\n",
    "# the first PC and 35.6% along the second, leaving 14.3% for the third, suggesting the third PC carriers a reasonable\n",
    "# amount of information.\n",
    "pca.explained_variance_ratio_"
   ]
  },
  {
   "cell_type": "code",
   "execution_count": 11,
   "metadata": {
    "ExecuteTime": {
     "end_time": "2020-08-03T22:46:38.721150Z",
     "start_time": "2020-08-03T22:46:38.713271Z"
    }
   },
   "outputs": [],
   "source": [
    "# Rather than arbitrarily choosing, it is often simpler to pick the number of dimensions that add up to a sufficiently \n",
    "# large proportion of the variance (e.g. 95%) - unless you are reducing the dimensionality for visualization (in which case\n",
    "# you want a dimensionality of 2 or 3).\n",
    "\n",
    "D = 10\n",
    "X_train = 10*np.random.rand(100, D)\n",
    "\n",
    "pca = PCA()\n",
    "pca.fit(X_train)\n",
    "cumsum = np.cumsum(pca.explained_variance_ratio_)\n",
    "d = np.argmax(cumsum >= 0.95) + 1\n",
    "pca = PCA(n_components=d)\n",
    "X_reduced = pca.fit_transform(X_train)\n",
    "\n",
    "# An even simpler option is to set n_components to be a float between 0.0 and 1.0, indicating the ratio of variance you \n",
    "# wish to preserve.\n",
    "\n",
    "pca = PCA(n_components=0.95)\n",
    "X_reduced = pca.fit_transform(X_train)"
   ]
  },
  {
   "cell_type": "code",
   "execution_count": 12,
   "metadata": {
    "ExecuteTime": {
     "end_time": "2020-08-03T22:46:51.302930Z",
     "start_time": "2020-08-03T22:46:38.722876Z"
    }
   },
   "outputs": [],
   "source": [
    "# Another option is to plot the explained variance as a function of the number of dimensions (simply plot cumsum) - there\n",
    "# will usually be an elbow in the curve where the explained variance stops growing fast.\n",
    "\n",
    "from sklearn.datasets import fetch_openml\n",
    "mnist = fetch_openml('mnist_784', version=1)\n",
    "mnist.target = mnist.target.astype(np.uint8)"
   ]
  },
  {
   "cell_type": "code",
   "execution_count": 13,
   "metadata": {
    "ExecuteTime": {
     "end_time": "2020-08-03T22:46:55.037199Z",
     "start_time": "2020-08-03T22:46:51.303852Z"
    }
   },
   "outputs": [],
   "source": [
    "from sklearn.model_selection import train_test_split\n",
    "\n",
    "X = mnist['data']\n",
    "y = mnist['target']\n",
    "\n",
    "X_train, X_test, y_train, y_test = train_test_split(X, y)\n",
    "\n",
    "pca = PCA()\n",
    "pca.fit(X_train)\n",
    "cumsum = np.cumsum(pca.explained_variance_ratio_)\n",
    "d = np.argmax(cumsum > 0.95) + 1"
   ]
  },
  {
   "cell_type": "code",
   "execution_count": 14,
   "metadata": {
    "ExecuteTime": {
     "end_time": "2020-08-03T22:46:55.409398Z",
     "start_time": "2020-08-03T22:46:55.038017Z"
    }
   },
   "outputs": [
    {
     "data": {
      "image/png": "[encoded data removed]",
      "text/plain": [
       "<Figure size 432x288 with 1 Axes>"
      ]
     },
     "metadata": {
      "needs_background": "light"
     },
     "output_type": "display_data"
    }
   ],
   "source": [
    "import matplotlib.pyplot as plt\n",
    "\n",
    "plt.figure(figsize=(6,4))\n",
    "plt.plot(cumsum, linewidth=3)\n",
    "plt.axis([0, 400, 0, 1])\n",
    "plt.xlabel(\"Dimensions\")\n",
    "plt.ylabel(\"Explained Variance\")\n",
    "plt.plot([d, d], [0, 0.95], \"k:\")\n",
    "plt.plot([0, d], [0.95, 0.95], \"k:\")\n",
    "plt.plot(d, 0.95, \"ko\")\n",
    "plt.annotate(\"Elbow\", xy=(65, 0.85), xytext=(70, 0.7),\n",
    "             arrowprops=dict(arrowstyle=\"->\"), fontsize=16)\n",
    "plt.grid(True)\n",
    "plt.show()\n",
    "\n",
    "# We can see that selecting n_components=100 will mean we preserve a reasonable amount of the dataset's variance."
   ]
  },
  {
   "cell_type": "code",
   "execution_count": 15,
   "metadata": {
    "ExecuteTime": {
     "end_time": "2020-08-03T22:46:59.152922Z",
     "start_time": "2020-08-03T22:46:55.410291Z"
    }
   },
   "outputs": [],
   "source": [
    "# Note that applying PCA to the MNIST dataset has compressed the data - preserving 95% of the variance means each instance\n",
    "# will have 150 features rather than the original 784, so the data takes up less than 20% of the original size. This\n",
    "# significant compression can lead to a good speed up in a classification algorithm (such as an SVM classifier).\n",
    "\n",
    "# We can also decompress the reduced dataset by applying the inverse transformation of the PCA projection. This does not \n",
    "# give back the original data, since the projection lost some information (within the 5% variance which was dropped), but\n",
    "# it will likely be close to the original data. X_recovered = X_dproj.W_d^T. \n",
    "# The mean squared distance between the original and reconstructed data is called the reconstruction error. \n",
    "\n",
    "pca = PCA(n_components = 154)\n",
    "X_reduced = pca.fit_transform(X_train)\n",
    "X_recovered = pca.inverse_transform(X_reduced)\n",
    "\n",
    "# In this case there is some image quality loss, but the digits are mostly still intact."
   ]
  },
  {
   "cell_type": "code",
   "execution_count": 16,
   "metadata": {
    "ExecuteTime": {
     "end_time": "2020-08-03T22:47:47.335914Z",
     "start_time": "2020-08-03T22:46:59.153733Z"
    }
   },
   "outputs": [
    {
     "name": "stdout",
     "output_type": "stream",
     "text": [
      "2.99 s ± 21 ms per loop (mean ± std. dev. of 7 runs, 1 loop each)\n",
      "3 s ± 22.7 ms per loop (mean ± std. dev. of 7 runs, 1 loop each)\n"
     ]
    }
   ],
   "source": [
    "# Setting the hyperparameter svd_solver='randomized' means sklearn uses a stochastic algorithm called Randomized PCA which\n",
    "# quickly finds an approximation of the first d PCs. It has computational complexity O(m x d^2) + O(d^3) instead of \n",
    "# O(m x n^2) + O(n^3) for the full SVD approach, so it is dramatically faster than full SVD when d << n.\n",
    "# The default for svd_solver is 'auto', sklearn automatically uses Randomized PCA if m or n is greater than 500 and \n",
    "# d is less than 80% of m or n. Otherwise it uses the full SVD approach. Setting svd_solver='full' forces sklearn to\n",
    "# use full SVD.\n",
    "\n",
    "pca = PCA(n_components=154, svd_solver='full')\n",
    "rnd_pca = PCA(n_components=154, svd_solver='randomized')\n",
    "%timeit X_reduced = pca.fit_transform(X_train)\n",
    "%timeit X_reduced_rnd = rnd_pca.fit_transform(X_train)"
   ]
  },
  {
   "cell_type": "code",
   "execution_count": 17,
   "metadata": {
    "ExecuteTime": {
     "end_time": "2020-08-03T22:47:55.322173Z",
     "start_time": "2020-08-03T22:47:47.643003Z"
    }
   },
   "outputs": [],
   "source": [
    "# Incremental PCA algorithms allow you to split the training set into mini-batches and feed an IPCA algorithm one \n",
    "# mini-batch at a time. This is useful for large training sets and for applycing PCA online (as new instances arrive) - \n",
    "# the previous PCA implmentations require the whole training set to fit in memory to run.\n",
    "\n",
    "from sklearn.decomposition import IncrementalPCA\n",
    "\n",
    "n_batches = 100\n",
    "inc_pca = IncrementalPCA(n_components=154)\n",
    "for X_batch in np.array_split(X_train, n_batches):\n",
    "    inc_pca.partial_fit(X_batch)\n",
    "    \n",
    "X_reduced = inc_pca.transform(X_train)"
   ]
  },
  {
   "cell_type": "code",
   "execution_count": null,
   "metadata": {
    "ExecuteTime": {
     "end_time": "2020-08-03T22:46:30.985866Z",
     "start_time": "2020-08-03T22:46:30.982Z"
    }
   },
   "outputs": [],
   "source": [
    "# Alternatively there is the Numpy memmap class, which allows you to manipulate a large array stored in a binary file on \n",
    "# disk as if it were entirely in memory; the class loads only the data it needs in memory, when it needs it. Since the \n",
    "# IncrementalPCA class uses only a small part of the array at any given time, the memory usage remains under control. This\n",
    "# makes it possible to call the usual fit() method, as you can see in the following code:\n",
    "\"\"\"\n",
    "X_mm = np.memmap(filename, dtype=\"float32\", mode=\"readonly\", shape=(m, n))\n",
    "\n",
    "batch_size = m // n_batches\n",
    "inc_pca = IncrementalPCA(n_components=154, batch_size=batch_size)\n",
    "inc_pca.fit(X_mm)\n",
    "\"\"\""
   ]
  },
  {
   "cell_type": "code",
   "execution_count": 39,
   "metadata": {
    "ExecuteTime": {
     "end_time": "2020-08-03T23:21:07.181931Z",
     "start_time": "2020-08-03T23:21:07.150839Z"
    }
   },
   "outputs": [],
   "source": [
    "# In Chapter 5 we discussed the kernel trick, a mathematical technique that implicitly maps instances into a very \n",
    "# high-dimensional space (called the feature space), enabling nonlinear classification and regression with SVMs. \n",
    "# Recall that a linear decision boundary in the high-dimensional feature space corresponds to a complex nonlinear decision\n",
    "# boundary in the original space. It turns out that the same trick can be applied to PCA, making it possible to perform\n",
    "# complex nonlinear projections for dimensionality reduction. This is called Kernel PCA (kPCA).\n",
    "\n",
    "from sklearn.decomposition import KernelPCA\n",
    "from sklearn.datasets import make_swiss_roll\n",
    "\n",
    "X, t = make_swiss_roll(n_samples=1000, noise=0.2, random_state=42)\n",
    "y = t > 6.9\n",
    "\n",
    "rbf_pca = KernelPCA(n_components=2, kernel='rbf', gamma=0.04)\n",
    "X_reduced = rbf_pca.fit_transform(X)"
   ]
  },
  {
   "cell_type": "code",
   "execution_count": 63,
   "metadata": {
    "ExecuteTime": {
     "end_time": "2020-08-03T23:24:06.877027Z",
     "start_time": "2020-08-03T23:24:05.624318Z"
    }
   },
   "outputs": [
    {
     "data": {
      "text/plain": [
       "GridSearchCV(cv=3,\n",
       "             estimator=Pipeline(steps=[('kpca', KernelPCA(n_components=2)),\n",
       "                                       ('log_reg', LogisticRegression())]),\n",
       "             param_grid=[{'kpca__gamma': array([0.03      , 0.03555556, 0.04111111, 0.04666667, 0.05222222,\n",
       "       0.05777778, 0.06333333, 0.06888889, 0.07444444, 0.08      ]),\n",
       "                          'kpca__kernel': ['rbf', 'sigmoid']}])"
      ]
     },
     "execution_count": 63,
     "metadata": {},
     "output_type": "execute_result"
    }
   ],
   "source": [
    "# As kPCA is an unsupervised learning algorithm, there is no obvious performance measure to help you select the best kernel\n",
    "# and hyperparameter values. That said, dimensionality reduction is often a preparation step for a supervised learning task\n",
    "# (e.g., classification), so you can use grid search to select the kernel and hyperparameters that lead to the best \n",
    "# performance on that task. The following code creates a twostep pipeline, first reducing dimensionality to two dimensions\n",
    "# using kPCA, then applying Logistic Regression for classification. Then it uses GridSearchCV to find the best kernel \n",
    "# and gamma value for kPCA in order to get the best classification accuracy at the end of the pipeline:\n",
    "\n",
    "from sklearn.model_selection import GridSearchCV\n",
    "from sklearn.linear_model import LogisticRegression\n",
    "from sklearn.pipeline import Pipeline\n",
    "\n",
    "clf = Pipeline([\n",
    "    ('kpca', KernelPCA(n_components=2)),\n",
    "    ('log_reg', LogisticRegression())\n",
    "])\n",
    "\n",
    "param_grid = [{\n",
    "    'kpca__gamma': np.linspace(0.03, 0.08, 10),\n",
    "    'kpca__kernel': ['rbf', 'sigmoid']\n",
    "}]\n",
    "\n",
    "grid_search = GridSearchCV(clf, param_grid, cv=3)\n",
    "grid_search.fit(X, y)"
   ]
  },
  {
   "cell_type": "code",
   "execution_count": 64,
   "metadata": {
    "ExecuteTime": {
     "end_time": "2020-08-03T23:24:08.338664Z",
     "start_time": "2020-08-03T23:24:08.336813Z"
    }
   },
   "outputs": [
    {
     "name": "stdout",
     "output_type": "stream",
     "text": [
      "{'kpca__gamma': 0.04666666666666666, 'kpca__kernel': 'rbf'}\n"
     ]
    }
   ],
   "source": [
    "print(grid_search.best_params_)"
   ]
  },
  {
   "cell_type": "code",
   "execution_count": 69,
   "metadata": {
    "ExecuteTime": {
     "end_time": "2020-08-03T23:26:19.849163Z",
     "start_time": "2020-08-03T23:26:19.761214Z"
    }
   },
   "outputs": [
    {
     "data": {
      "text/plain": [
       "4.852076810141359e-27"
      ]
     },
     "execution_count": 69,
     "metadata": {},
     "output_type": "execute_result"
    }
   ],
   "source": [
    "# Another approach, this time entirely unsupervised, is to select the kernel and hyperparameters that yield the lowest\n",
    "# reconstruction error. Note that reconstruction is not as easy as with linear PCA. Thanks to the kernel trick, the \n",
    "# transformation from the original space to the reduced space involves an intermediate step: the feature map φ first \n",
    "# maps the training set to an infinite dimensional feature space, then we project the transformed training set down to\n",
    "# the 2D reduced space using linear PCA.\n",
    "# See Figure 8-11\n",
    "# Notice that if we could invert the final linear PCA step for a given instance in the reduced space, the reconstructed \n",
    "# point lies in the infinite-dimensional feature space, not in the original space, so we cannot compute the reconstructed \n",
    "# point, and therefore we cannot compute the true reconstruction error. \n",
    "# Fortunately, it is possible to find a point in the original space that would map close to the reconstructed point. \n",
    "# This point is called the reconstruction pre-image. Once you have this pre-image, you can measure its squared distance to\n",
    "# the original instance. You can then select the kernel and hyperparameters that minimize this reconstruction pre-image \n",
    "# error.\n",
    "# One way to perform this reconstruction is by training a supervised regression model, with the projected instances acting\n",
    "# as the training set and the original instances as targets. Scikit-Learn does this automatically if the hyperparameter \n",
    "# fit_inverse_transform=True. By default, fit_inverse_transform=False and KernelPCA has no inverse_transform() method. This method only gets created \n",
    "# when you set fit_inverse_transform=True.\n",
    "\n",
    "rbf_pca = KernelPCA(n_components=2, kernel=\"rbf\", gamma=0.0466,\n",
    "                    fit_inverse_transform=True)\n",
    "X_reduced = rbf_pca.fit_transform(X)\n",
    "X_preimage = rbf_pca.inverse_transform(X_reduced)\n",
    "\n",
    "# Then, compute the reconstruction pre-image error, then use grid search with CV to find the kernel and hyperparameters \n",
    "# that minimize this error.\n",
    "\n",
    "from sklearn.metrics import mean_squared_error\n",
    "mean_squared_error(X, X_preimage)"
   ]
  },
  {
   "cell_type": "code",
   "execution_count": 70,
   "metadata": {
    "ExecuteTime": {
     "end_time": "2020-08-03T23:32:52.021233Z",
     "start_time": "2020-08-03T23:32:51.955668Z"
    }
   },
   "outputs": [],
   "source": [
    "# Other than PCA, Locally Linear Embedding (LLE) is a powerful nonlinear dimensionality reduction (NLDR) technique. It is\n",
    "# a Manifold Learning technique that does not rely on projections - LLE works by first measuring how each training\n",
    "# instance linearly relates to its closest neighbours, and then the algorithm looks for a low-dimensional representation \n",
    "# of the training set where these local relationships are best preserved. This makes it particularly good at unrolling \n",
    "# twisted manifolds, especially when there is little noise.\n",
    "\n",
    "from sklearn.manifold import LocallyLinearEmbedding\n",
    "\n",
    "lle = LocallyLinearEmbedding(n_components=2, n_neighbors=10)\n",
    "X_reduced = lle.fit_transform(X)\n",
    "\n",
    "# The resulting reduced dataset (from the initial Swiss roll) is completely unrolled, and the distances between instances\n",
    "# are locally well preserved. However, distances are not preserved on a larger scale: the left part of the unrolled Swiss\n",
    "# roll is stretched, while the right part is squeezed. Nevertheless, LLE did a pretty good job at modeling the manifold."
   ]
  },
  {
   "cell_type": "code",
   "execution_count": null,
   "metadata": {},
   "outputs": [],
   "source": [
    "# See book for complete LLE algorithm explaination.\n",
    "\n",
    "# Scikit-Learn’s LLE implementation has the following computational complexity: O(mlog(m) nlog(k)) for finding the\n",
    "# k nearest neighbors, O(mnk^3) for optimizing the weights, and O(dm^2) for constructing the low-dimensional \n",
    "# representations. Unfortunately, the m2 in the last term makes this algorithm scale poorly to very large datasets."
   ]
  },
  {
   "cell_type": "code",
   "execution_count": null,
   "metadata": {},
   "outputs": [],
   "source": [
    "# Other Dimensionality Reduction Techniques\n",
    "\n",
    "# Random Projections\n",
    "# As its name suggests, projects the data to a lower-dimensional space using a random linear projection. It turns out that\n",
    "# such a random projection is actually very likely to preserve distances well, as was demonstrated mathematically by\n",
    "# William B. Johnson and Joram Lindenstrauss in a famous lemma. The quality of the dimensionality reduction depends on the\n",
    "# number of instances and the target dimensionality, but surprisingly not on the initial dimensionality.\n",
    "# Check out the documentation for the sklearn.random_projection package for more details.\n",
    "\n",
    "# Multidimensional Scaling (MDS)\n",
    "# Reduces dimensionality while trying to preserve the distances between the instances.\n",
    "\n",
    "# Isomap\n",
    "# Creates a graph by connecting each instance to its nearest neighbors, then reduces dimensionality while trying to\n",
    "# preserve the geodesic distances between the instances (the geodesic distance between two nodes in a graph is the number\n",
    "# of nodes on the shortest path between these nodes).\n",
    "\n",
    "# t-Distributed Stochastic Neighbor Embedding(t-SNE)\n",
    "# Reduces dimensionality while trying to keep similar instances close and dissimilar instances apart. It is mostly used\n",
    "# for visualization, in particular to visualize clusters of instances in high-dimensional space(e.g., to visualize the\n",
    "# MNIST images in 2D).\n",
    "\n",
    "# Linear Discriminant Analysis (LDA)\n",
    "# Is a classification algorithm, but during training it learns the most discriminative axes between the classes, and these\n",
    "# axes can then be used to define a hyperplane onto which to project the data. The benefit of this approach is that the\n",
    "# projection will keep classes as far apart as possible, so LDA is a good technique to reduce dimensionality before running\n",
    "# another classification algorithm such as an SVM classifier."
   ]
  }
 ],
 "metadata": {
  "kernelspec": {
   "display_name": "Python 3",
   "language": "python",
   "name": "python3"
  },
  "language_info": {
   "codemirror_mode": {
    "name": "ipython",
    "version": 3
   },
   "file_extension": ".py",
   "mimetype": "text/x-python",
   "name": "python",
   "nbconvert_exporter": "python",
   "pygments_lexer": "ipython3",
   "version": "3.7.7"
  },
  "toc": {
   "base_numbering": 1,
   "nav_menu": {},
   "number_sections": true,
   "sideBar": true,
   "skip_h1_title": false,
   "title_cell": "Table of Contents",
   "title_sidebar": "Contents",
   "toc_cell": false,
   "toc_position": {},
   "toc_section_display": true,
   "toc_window_display": false
  },
  "varInspector": {
   "cols": {
    "lenName": 16,
    "lenType": 16,
    "lenVar": 40
   },
   "kernels_config": {
    "python": {
     "delete_cmd_postfix": "",
     "delete_cmd_prefix": "del ",
     "library": "var_list.py",
     "varRefreshCmd": "print(var_dic_list())"
    },
    "r": {
     "delete_cmd_postfix": ") ",
     "delete_cmd_prefix": "rm(",
     "library": "var_list.r",
     "varRefreshCmd": "cat(var_dic_list()) "
    }
   },
   "types_to_exclude": [
    "module",
    "function",
    "builtin_function_or_method",
    "instance",
    "_Feature"
   ],
   "window_display": false
  }
 },
 "nbformat": 4,
 "nbformat_minor": 4
}
