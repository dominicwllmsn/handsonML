{
 "cells": [
  {
   "cell_type": "code",
   "execution_count": 1,
   "metadata": {
    "ExecuteTime": {
     "end_time": "2020-08-01T22:09:45.249484Z",
     "start_time": "2020-08-01T22:09:45.221271Z"
    }
   },
   "outputs": [
    {
     "data": {
      "text/plain": [
       "DecisionTreeClassifier(ccp_alpha=0.0, class_weight=None, criterion='gini',\n",
       "                       max_depth=2, max_features=None, max_leaf_nodes=None,\n",
       "                       min_impurity_decrease=0.0, min_impurity_split=None,\n",
       "                       min_samples_leaf=1, min_samples_split=2,\n",
       "                       min_weight_fraction_leaf=0.0, presort='deprecated',\n",
       "                       random_state=None, splitter='best')"
      ]
     },
     "execution_count": 1,
     "metadata": {},
     "output_type": "execute_result"
    }
   ],
   "source": [
    "#Like SVMs, Decision Trees are versatile ML algorithms which can perform both regression and classification, as well as \n",
    "#multioutput tasks. They are powerful and capable of fitting complex datasets (e.g. overfitted housing dataset in chpt 2).\n",
    "#Here we have a classification example with the iris dataset using DecisionTreeClassifier:\n",
    "from sklearn.datasets import load_iris\n",
    "from sklearn.tree import DecisionTreeClassifier\n",
    "\n",
    "iris = load_iris()\n",
    "X = iris.data[:, 2:] #petal length, petal width\n",
    "y = iris.target\n",
    "\n",
    "tree_clf = DecisionTreeClassifier(max_depth=2)\n",
    "tree_clf.fit(X, y)"
   ]
  },
  {
   "cell_type": "code",
   "execution_count": 22,
   "metadata": {
    "ExecuteTime": {
     "end_time": "2020-08-01T23:44:50.579516Z",
     "start_time": "2020-08-01T23:44:50.575931Z"
    }
   },
   "outputs": [],
   "source": [
    "#To visualize the trained Decision Tree, use export_graphvix() to output a graph definition file called iris_tree.dot\n",
    "from sklearn.tree import export_graphviz\n",
    "import os\n",
    "\n",
    "def image_path(file):\n",
    "    path = os.path.join(os.getcwd(), file)\n",
    "    return path\n",
    "\n",
    "export_graphviz(tree_clf, out_file=image_path('iris_tree.dot'),\n",
    "               feature_names=iris.feature_names[2:],\n",
    "               class_names=iris.target_names,\n",
    "               rounded=True,\n",
    "               filled=True)\n",
    "\n",
    "#The dot command-line tool from the Graphviz package can then convert the .dot file to a pdf or png, via:\n",
    "# dot -Tpng iris_tree.dot -o iris_tree.png"
   ]
  },
  {
   "cell_type": "markdown",
   "metadata": {},
   "source": [
    "![DT](iris_tree.png)"
   ]
  },
  {
   "cell_type": "code",
   "execution_count": 5,
   "metadata": {
    "ExecuteTime": {
     "end_time": "2020-08-01T22:41:52.699384Z",
     "start_time": "2020-08-01T22:41:52.696432Z"
    }
   },
   "outputs": [],
   "source": [
    "#To see how the tree makes predictions: to classify an unknown iris, start at the root node (depth 0), it asks if the \n",
    "#petal length <= 2.45cm. If true, move to the root's left child node (depth 1, left). In this case, it is a leaf node since\n",
    "#it does not itself have any child nodes, so does not ask any questions. Simply look at the class for that node - the \n",
    "#Decision Tree predicts that class=setosa.\n",
    "#If another flower has petal length > 2.45cm, move to the root's right child node (depth 1, right), which is not a leaf \n",
    "#node, so it asks another question - if the petal width <= 1.75cm. If it is, class=versicolor (depth 2, left), else then\n",
    "#class=viginica (depth 2, right).\n",
    "\n",
    "#Each node's samples attribute counts how many training instances it applies to. The value attribute gives the number\n",
    "#of training instances of each class that this node applies to - the depth-2 right node applies to 0 setosa, 1 versicolor\n",
    "#and 45 virginica. The gini attribute measures its impurity - a node is pure (gini=0) if all training instances it applies\n",
    "#to belong to the same class. The gini score of the ith node is G_i = 1 - Σ(p_i_k)^2 where p_i_k is the ratio of class k\n",
    "#instances among the training instances of the ith node. The depth-2 left node has G = 1-(0/54)^2 - (49/54)^2 - (5/54)^2.\n",
    "\n",
    "#Since max_depth=2 above, the Decision Tree stops at two decision boundaries in parameter space - adding greater depth\n",
    "#will further fragment the impure area (the pure area, containing only iris setosa, cannot be split any further).\n",
    "\n",
    "#N.B. Decision Trees are intuitive, and their decisions are easy to interpret. Such models are often called white box \n",
    "#models. In contrast, as we will see, Random Forests or neural networks are generally considered black box models. They \n",
    "#make great predictions, and you can easily check the calculations that they performed to make these predictions; \n",
    "#nevertheless, it is usually hard to explain in simple terms why the predictions were made. For example, if a neural \n",
    "#network says that a particular person appears on a picture, it is hard to know what contributed to this prediction: did \n",
    "#the model recognize that person’s eyes? Their mouth? Their nose? Their shoes? Or even the couch that they were sitting \n",
    "#on? Conversely, Decision Trees provide nice, simple classification rules that can even be applied manually if need be \n",
    "#(e.g., for flower classification).\n",
    "#Another quality of Decision Trees is that they require very little data preparation (no feature scaling or centering)"
   ]
  },
  {
   "cell_type": "code",
   "execution_count": 8,
   "metadata": {
    "ExecuteTime": {
     "end_time": "2020-08-01T22:47:34.151628Z",
     "start_time": "2020-08-01T22:47:34.148745Z"
    }
   },
   "outputs": [
    {
     "data": {
      "text/plain": [
       "(array([[0.        , 0.90740741, 0.09259259]]), array([1]))"
      ]
     },
     "execution_count": 8,
     "metadata": {},
     "output_type": "execute_result"
    }
   ],
   "source": [
    "#Decision Trees can also estimate the probability that an instance belongs to a particular class k - it traverses the\n",
    "#tree to find the leaf node for the instance, then returns the ratio of training instance of class k in this node. For \n",
    "#example, with a flower 5cm and 1.5cm wide, it corresponds to the depth-2 left node, so the Decision Tree will output\n",
    "#the following probabilities: 0% (0/54) for setosa, 90.7% (49/54) for versicolor and 9.3% (5/54) for virginica. If asked\n",
    "#to predict a class, it will output class 1 (Iris versicolor) as it has the highest probability.\n",
    "\n",
    "tree_clf.predict_proba([[5, 1.5]]), tree_clf.predict([[5, 1.5]])"
   ]
  },
  {
   "cell_type": "code",
   "execution_count": 9,
   "metadata": {
    "ExecuteTime": {
     "end_time": "2020-08-01T23:24:39.031564Z",
     "start_time": "2020-08-01T23:24:39.029646Z"
    }
   },
   "outputs": [],
   "source": [
    "#Scikit-Learn uses the CART algorithm, producing only binary trees (nonleaf nodes always have two children, so questions\n",
    "#only with yes/no answers). Other algorithms, such as ID3, can produce DTs with nodes that have more than two children.\n",
    "#CART stands for Classification and Regression Tree. It splits the training set into two subsets using a single feature k\n",
    "#and a threshold t_k (e.g. petal length <= 2.45cm). It chooses k and t_k by searching for the pair (k, t_k) that produces\n",
    "#the purest subsets (weighted by their size). For left and right subsets, CART minimises the cost function:\n",
    "# J(k, t_k) = (m_left/m)*G_left + (m_right/m)*G_right. After splitting the training set into two, it splits the subsets\n",
    "#using the same logic, then the sub-subsets etc. recursively, stopping at the set maximum depth (via the max_depth \n",
    "#hyperparameter), or if it cannot find a split that will reduce impurity. Additional stopping conditions are controlled by\n",
    "#the hyperparameters min_samples_split, min_samples_leaf, min_weight_fraction_leaf, and max_left_nodes.\n",
    "\n",
    "#Note that CART is a greedy algorithm: it greedily searches for an optimum split at the top level, then repeats at each\n",
    "#subsequent level - it does not check whether or not the split will lead to the lowest possible impurity several levels\n",
    "#down the tree. Greedy algorithms tend to produce solutions that are reasonably good but not guaranteed to be optimal.\n",
    "#Finding an optimal tree is NP-complete: it requires O(exp(m)) time, therefore intractable even more small training sets - \n",
    "#hence we settle for 'reasonably good'.\n",
    "#With respect to the computational complexity of predictions, making one required traversing the Decision Tree from the \n",
    "#root to a leaf. In general Decision Trees are approximately balanced, so traversing a tree requires traversing around\n",
    "#O(log_2(m)) nodes. As each node requires checking the value of one feature, total prediction complexity is O(log_2(m)),\n",
    "#independant of n - hence prediction is fast even with large training sets. \n",
    "#The training algorithm compares all n features (or less if max_features is set) on all samples at each node, resulting in\n",
    "#complexity O(n * mlog_2(m)). For small (1000s) datasets, sklearn can speed up training by presorting the data (set \n",
    "#presort=True), but doing so for larger datasets slows training considerably.\n",
    "\n",
    "#By default, the Gini impurity measure is used, but the entropy impurity measure may be selected instead by setting the\n",
    "#hyperparameter criterion='entropy'. In thermodynamics, entropy tends to zero when the molecules are still and well\n",
    "#ordered, while in Shannon's information theory it measures the average information content of a message (a reduction of\n",
    "#entropy is often termed an information gain) - entropy is zero when all messages are identical. In ML entropy is often\n",
    "#used as an inpurity measure - a set has zero entropy when it contains instances of only one class. It is found by:\n",
    "# H_i = − Σ p_i_k*log_2(p_i_k), where we sum from k=1 to n and p_i_k != 0. The above depth-2 left node has H = 0.445.\n",
    "#Most of the time, choosing Gini impurity or entropy makes little difference (they lead to similar trees). Gini impurity\n",
    "#is faster, so is a good default. When they do differ, Gini tends to isolate the most frequent class in its own branch \n",
    "#while entropy produces slightly more balanced trees."
   ]
  },
  {
   "cell_type": "code",
   "execution_count": 10,
   "metadata": {
    "ExecuteTime": {
     "end_time": "2020-08-01T23:36:28.708744Z",
     "start_time": "2020-08-01T23:36:28.706894Z"
    }
   },
   "outputs": [],
   "source": [
    "#Decision Trees make very few assumptions about the training data (as opposed to linear models, which assume that the data \n",
    "#is linear, for example). If left unconstrained, the tree structure will adapt itself to the training data, fitting it very\n",
    "#closely—indeed, most likely overfitting it. Such a model is often called a nonparametric model, not because it does not \n",
    "#have any parameters (it often has a lot) but because the number of parameters is not determined prior to training, so the\n",
    "#model structure is free to stick closely to the data. In contrast, a parametric model, such as a linear model, has a \n",
    "#predetermined number of parameters, so its degree of freedom is limited, reducing the risk of overfitting (but increasing\n",
    "#the risk of underfitting).\n",
    "\n",
    "#To avoid overfitting the training data, you need to restrict the Decision Tree’s freedom during training regularization. \n",
    "#The regularization hyperparameters depend on the algorithm used, but generally you can at least restrict the max_depth\n",
    "#hyperparameter (the default value is None, which means unlimited). The DecisionTreeClassifier class has a few other \n",
    "#parameters that similarly restrict the shape of the Decision Tree: (1) min_samples_split (the minimum number of samples a \n",
    "#node must have before it can be split), (2) min_samples_leaf (the minimum number of samples a leaf node must have), \n",
    "#(3) min_weight_fraction_leaf (same as min_samples_leaf but expressed as a fraction of the total number of weighted \n",
    "#instances), (4) max_leaf_nodes (the maximum number of leaf nodes), and (5) max_features (the maximum number of features \n",
    "#that are evaluated for splitting at each node). Increasing min_* hyperparameters or reducing max_* hyperparameters will\n",
    "#regularize the model. For example increasing min_samples_leaf to 4 could reduce overfitting by preventing leaf nodes\n",
    "#which only cover a small number of training instances correctly.\n",
    "\n",
    "#Other algorithms work by first training the Decision Tree without restrictions, then pruning (deleting) unnecessary nodes.\n",
    "#A node whose children are all leaf nodes is considered unnecessary if the purity improvement it provides is not \n",
    "#statistically significant. Standard statistical tests, such as the χ2 test (chi-squared test), are used to estimate the\n",
    "#probability that the improvement is purely the result of chance (which is called the null hypothesis). If this probability\n",
    "#(the p-value), is higher than a given threshold (typically 5%, controlled by a hyperparameter), then the node is \n",
    "#considered unnecessary and its children are deleted. The pruning continues until all unnecessary nodes have been pruned."
   ]
  },
  {
   "cell_type": "code",
   "execution_count": 72,
   "metadata": {
    "ExecuteTime": {
     "end_time": "2020-08-02T00:17:41.293475Z",
     "start_time": "2020-08-02T00:17:41.213206Z"
    }
   },
   "outputs": [
    {
     "name": "stdout",
     "output_type": "stream",
     "text": [
      "4 15\n"
     ]
    },
    {
     "data": {
      "image/png": "[encoded data removed]",
      "text/plain": [
       "<Figure size 432x288 with 1 Axes>"
      ]
     },
     "metadata": {
      "needs_background": "light"
     },
     "output_type": "display_data"
    }
   ],
   "source": [
    "#Decision Trees can also perform regression using the DecisionTreeRegressor class:\n",
    "\n",
    "from sklearn.tree import DecisionTreeRegressor\n",
    "import numpy as np\n",
    "import matplotlib.pyplot as plt\n",
    "\n",
    "np.random.seed(42)\n",
    "m = 200\n",
    "X = 2*np.random.rand(m, 1) - 1\n",
    "y = 2*X**2  + np.random.randn(m, 1)/3\n",
    "\n",
    "tree_reg1 = DecisionTreeRegressor(max_depth=2)\n",
    "tree_reg1.fit(X, y)\n",
    "tree_reg2 = DecisionTreeRegressor(max_depth=4)\n",
    "tree_reg2.fit(X, y)\n",
    "\n",
    "print(tree_reg1.get_n_leaves(), tree_reg2.get_n_leaves())\n",
    "\n",
    "X_range = np.linspace(-1, 1, 500).reshape(-1 , 1)\n",
    "y_pred1 = tree_reg1.predict(X_range)\n",
    "y_pred2 = tree_reg2.predict(X_range)\n",
    "plt.plot(X_range, y_pred1, 'r-')\n",
    "plt.plot(X_range, y_pred2, 'g-')\n",
    "plt.plot(X, y, 'b.')\n",
    "plt.show()\n",
    "\n",
    "export_graphviz(tree_reg1, out_file=image_path('reg_tree2.dot'),\n",
    "               feature_names=['x1'],\n",
    "               rounded=True,\n",
    "               filled=True)\n",
    "\n",
    "#The dot command-line tool from the Graphviz package can then convert the .dot file to a pdf or png, via:\n",
    "# dot -Tpng reg_tree.dot -o reg_tree.png"
   ]
  },
  {
   "cell_type": "markdown",
   "metadata": {
    "ExecuteTime": {
     "end_time": "2020-08-01T23:47:01.129499Z",
     "start_time": "2020-08-01T23:47:00.999908Z"
    }
   },
   "source": [
    "![DT_reg](reg_tree2.png)"
   ]
  },
  {
   "cell_type": "code",
   "execution_count": null,
   "metadata": {},
   "outputs": [],
   "source": [
    "#The tree is similar to the one for classification, except that instead of predicting a class in each node, it predicts a\n",
    "#value. The bottom rightmost node predicts a value of 1.246. This prediction is the average target value of the 46 training\n",
    "#instances associated with this leaf node, and it results in a mean squared error of 1.246 over these 46 instances.\n",
    "#Note how the predicted value for each region is always the average target value of the instances in that region - the \n",
    "#algorithm splits each region in a way that makes most training instances as close as possible to that predicted value."
   ]
  },
  {
   "cell_type": "code",
   "execution_count": null,
   "metadata": {
    "ExecuteTime": {
     "end_time": "2020-08-02T00:03:58.081083Z",
     "start_time": "2020-08-02T00:03:58.005649Z"
    }
   },
   "outputs": [],
   "source": [
    "#The CART algorithm works similar to as it did with classification, except that instead of trying to split the training\n",
    "#set in a way that minimizes impurity, it now tries to split in a way that minimizes MSE:\n",
    "# J(k, t_k) = (m_left/m)*MSE_left + (m_right/m)*MSE_right where MSE_node = Σ (y_hat_node - y^(i))^2, where y_hat is the\n",
    "#average value of all the instances in the node, and the summation is over all the instances in the node.\n",
    "\n",
    "#As with classification Decision Trees, those for regression are also prone to overfitting. Regularizing is often required\n",
    "#using the previously listed min_* and max_* hyperparameters, such as min_samples_leaf."
   ]
  },
  {
   "cell_type": "code",
   "execution_count": null,
   "metadata": {},
   "outputs": [],
   "source": [
    "#Decision Trees have a lot going for them: they are simple to understand and interpret, easy to use, versatile, and \n",
    "#powerful. However, they do have a few limitations. First, as you may have noticed, Decision Trees love orthogonal \n",
    "#decision boundaries (all splits are perpendicular to an axis), which makes them sensitive to training set rotation.\n",
    "#For example, if you have a linearly separable dataset, such that all instances where x1 <= 0 are class 0 and class 1 if \n",
    "#x1 > 0, a Decision Tree can split it easily. Meanwhile this dataset rotated 45 degrees makes the decision boundary \n",
    "#unnecessaryily convoluted. Although both Decision Trees may fit the training data perfectly, the convoluted model is\n",
    "#unlikely to generalize well. One way to limit this is with Principal Component Analysis (PCA) which often results in a \n",
    "#better orientation of the training data.\n",
    "\n",
    "#More generally, the main issue with Decision Trees is that they are very sensitive to small variations in the training \n",
    "#data. For example, if you just remove the widest Iris versicolor from the iris training set (the one with petals 4.8 cm \n",
    "#long and 1.8 cm wide) and train a new Decision Tree, you may get a completely different set of (feature, threshold) pairs\n",
    "#that the Decision Tree decides to use to split up the data. Actually, since the training algorithm used by sklearn is\n",
    "#stochastic (it randomly selects the set of features to evaluate at each node), you may get very different models even on\n",
    "#the same training data (unless you set the random_state hyperparameter).\n",
    "#Random Forests can limit this instability by averaging predictions over many trees - see the next section."
   ]
  }
 ],
 "metadata": {
  "kernelspec": {
   "display_name": "Python 3",
   "language": "python",
   "name": "python3"
  },
  "language_info": {
   "codemirror_mode": {
    "name": "ipython",
    "version": 3
   },
   "file_extension": ".py",
   "mimetype": "text/x-python",
   "name": "python",
   "nbconvert_exporter": "python",
   "pygments_lexer": "ipython3",
   "version": "3.7.4"
  },
  "toc": {
   "base_numbering": 1,
   "nav_menu": {},
   "number_sections": true,
   "sideBar": true,
   "skip_h1_title": false,
   "title_cell": "Table of Contents",
   "title_sidebar": "Contents",
   "toc_cell": false,
   "toc_position": {},
   "toc_section_display": true,
   "toc_window_display": false
  },
  "varInspector": {
   "cols": {
    "lenName": 16,
    "lenType": 16,
    "lenVar": 40
   },
   "kernels_config": {
    "python": {
     "delete_cmd_postfix": "",
     "delete_cmd_prefix": "del ",
     "library": "var_list.py",
     "varRefreshCmd": "print(var_dic_list())"
    },
    "r": {
     "delete_cmd_postfix": ") ",
     "delete_cmd_prefix": "rm(",
     "library": "var_list.r",
     "varRefreshCmd": "cat(var_dic_list()) "
    }
   },
   "types_to_exclude": [
    "module",
    "function",
    "builtin_function_or_method",
    "instance",
    "_Feature"
   ],
   "window_display": false
  }
 },
 "nbformat": 4,
 "nbformat_minor": 4
}
