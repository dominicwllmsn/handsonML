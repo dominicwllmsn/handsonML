{
 "cells": [
  {
   "cell_type": "code",
   "execution_count": 8,
   "metadata": {
    "ExecuteTime": {
     "end_time": "2020-06-24T08:52:11.157472Z",
     "start_time": "2020-06-24T08:52:11.100504Z"
    }
   },
   "outputs": [
    {
     "data": {
      "text/plain": [
       "(6574, 15)"
      ]
     },
     "execution_count": 8,
     "metadata": {},
     "output_type": "execute_result"
    }
   ],
   "source": [
    "\"\"\"\n",
    "Wind Statistics\n",
    "----------------\n",
    "\n",
    "Topics: Using array methods over different axes, fancy indexing.\n",
    "\n",
    "1. The data in 'wind.data' has the following format::\n",
    "\n",
    "        61  1  1 15.04 14.96 13.17  9.29 13.96  9.87 13.67 10.25 10.83 12.58 18.50 15.04\n",
    "        61  1  2 14.71 16.88 10.83  6.50 12.62  7.67 11.50 10.04  9.79  9.67 17.54 13.83\n",
    "        61  1  3 18.50 16.88 12.33 10.13 11.17  6.17 11.25  8.04  8.50  7.67 12.75 12.71\n",
    "\n",
    "   The first three columns are year, month and day.  The\n",
    "   remaining 12 columns are average windspeeds in knots at 12\n",
    "   locations in Ireland on that day.\n",
    "\n",
    "   Use the 'loadtxt' function from numpy to read the data into\n",
    "   an array.\n",
    "\n",
    "2. Calculate the min, max and mean windspeeds and standard deviation of the\n",
    "   windspeeds over all the locations and all the times (a single set of numbers\n",
    "   for the entire dataset).\n",
    "\n",
    "3. Calculate the min, max and mean windspeeds and standard deviations of the\n",
    "   windspeeds at each location over all the days (a different set of numbers\n",
    "   for each location)\n",
    "\n",
    "4. Calculate the min, max and mean windspeed and standard deviations of the\n",
    "   windspeeds across all the locations at each day (a different set of numbers\n",
    "   for each day)\n",
    "\n",
    "5. Find the location which has the greatest windspeed on each day (an integer\n",
    "   column number for each day).\n",
    "\n",
    "6. Find the year, month and day on which the greatest windspeed was recorded.\n",
    "\n",
    "7. Find the average windspeed in January for each location.\n",
    "\n",
    "You should be able to perform all of these operations without using a for\n",
    "loop or other looping construct.\n",
    "\n",
    "Bonus\n",
    "~~~~~\n",
    "\n",
    "1. Calculate the mean windspeed for each month in the dataset.  Treat\n",
    "   January 1961 and January 1962 as *different* months. (hint: first find a\n",
    "   way to create an identifier unique for each month. The second step might\n",
    "   require a for loop.)\n",
    "\n",
    "2. Calculate the min, max and mean windspeeds and standard deviations of the\n",
    "   windspeeds across all locations for each week (assume that the first week\n",
    "   starts on January 1 1961) for the first 52 weeks. This can be done without\n",
    "   any for loop.\n",
    "\n",
    "Bonus Bonus\n",
    "~~~~~~~~~~~\n",
    "\n",
    "Calculate the mean windspeed for each month without using a for loop.\n",
    "(Hint: look at `searchsorted` and `add.reduceat`.)\n",
    "\n",
    "Notes\n",
    "~~~~~\n",
    "\n",
    "These data were analyzed in detail in the following article:\n",
    "\n",
    "   Haslett, J. and Raftery, A. E. (1989). Space-time Modelling with\n",
    "   Long-memory Dependence: Assessing Ireland's Wind Power Resource\n",
    "   (with Discussion). Applied Statistics 38, 1-50.\n",
    "\n",
    "\n",
    "See :ref:`wind-statistics-solution`.\n",
    "\"\"\"\n",
    "import numpy as np\n",
    "from numpy import loadtxt\n",
    "\n",
    "data = loadtxt(\"wind.data\")\n",
    "data.shape"
   ]
  },
  {
   "cell_type": "code",
   "execution_count": 9,
   "metadata": {
    "ExecuteTime": {
     "end_time": "2020-06-24T08:52:11.161993Z",
     "start_time": "2020-06-24T08:52:11.158298Z"
    }
   },
   "outputs": [
    {
     "name": "stdout",
     "output_type": "stream",
     "text": [
      "0.0\n",
      "42.54\n",
      "10.22837377040868\n",
      "5.603840181095793\n"
     ]
    }
   ],
   "source": [
    "#Statistics from all the data\n",
    "min_all, max_all, mean_all, std_all = data[:, 3:].min(), data[:, 3:].max(), \\\n",
    "                                      data[:, 3:].mean(), data[:, 3:].std()\n",
    "print(min_all, max_all, mean_all, std_all, sep='\\n')"
   ]
  },
  {
   "cell_type": "code",
   "execution_count": 10,
   "metadata": {
    "ExecuteTime": {
     "end_time": "2020-06-24T08:52:11.168375Z",
     "start_time": "2020-06-24T08:52:11.163313Z"
    }
   },
   "outputs": [
    {
     "name": "stdout",
     "output_type": "stream",
     "text": [
      "[0.67 0.21 1.5  0.   0.13 0.   0.   0.   0.   0.04 0.13 0.67]\n",
      "[35.8  33.37 33.84 28.46 37.54 26.16 30.37 31.08 25.88 28.21 42.38 42.54]\n",
      "[12.36371463 10.64644813 11.66010344  6.30627472 10.45688013  7.09225434\n",
      "  9.7968345   8.49442044  8.49581838  8.70726803 13.121007   15.59946152]\n",
      "[5.61918301 5.26820081 5.00738377 3.60513309 4.93536333 3.96838126\n",
      " 4.97689374 4.49865783 4.16746101 4.50327222 5.83459319 6.69734719]\n"
     ]
    }
   ],
   "source": [
    "#Separate for each location\n",
    "min_all, max_all, mean_all, std_all = data[:, 3:].min(axis=0), data[:, 3:].max(axis=0), \\\n",
    "                                      data[:, 3:].mean(axis=0), data[:, 3:].std(axis=0)\n",
    "print(min_all, max_all, mean_all, std_all, sep='\\n')"
   ]
  },
  {
   "cell_type": "code",
   "execution_count": 11,
   "metadata": {
    "ExecuteTime": {
     "end_time": "2020-06-24T08:52:11.174515Z",
     "start_time": "2020-06-24T08:52:11.169487Z"
    }
   },
   "outputs": [
    {
     "name": "stdout",
     "output_type": "stream",
     "text": [
      "[9.29 6.5  6.17 ... 8.71 9.13 9.59]\n",
      "[18.5  17.54 18.5  ... 29.58 28.79 27.29]\n",
      "[13.09666667 11.79833333 11.34166667 ... 14.89       15.3675\n",
      " 15.4025    ]\n",
      "[2.5773188  3.28972854 3.50543348 ... 5.51175108 5.30456427 5.45971172]\n"
     ]
    }
   ],
   "source": [
    "#Separate for each day\n",
    "min_all, max_all, mean_all, std_all = data[:, 3:].min(axis=1), data[:, 3:].max(axis=1), \\\n",
    "                                      data[:, 3:].mean(axis=1), data[:, 3:].std(axis=1)\n",
    "print(min_all, max_all, mean_all, std_all, sep='\\n')"
   ]
  },
  {
   "cell_type": "code",
   "execution_count": 12,
   "metadata": {
    "ExecuteTime": {
     "end_time": "2020-06-24T08:52:11.178269Z",
     "start_time": "2020-06-24T08:52:11.175423Z"
    }
   },
   "outputs": [
    {
     "name": "stdout",
     "output_type": "stream",
     "text": [
      "[18.5  17.54 18.5  ... 29.58 28.79 27.29]\n"
     ]
    }
   ],
   "source": [
    "max_speed_each_day = data[:, 3:].max(axis=1)\n",
    "print(max_speed_each_day)"
   ]
  },
  {
   "cell_type": "code",
   "execution_count": 13,
   "metadata": {
    "ExecuteTime": {
     "end_time": "2020-06-24T08:52:11.182487Z",
     "start_time": "2020-06-24T08:52:11.179268Z"
    }
   },
   "outputs": [
    {
     "name": "stdout",
     "output_type": "stream",
     "text": [
      "[ 2. 12. 66.]\n"
     ]
    }
   ],
   "source": [
    "max_windspeed_index = np.unravel_index(data[:, 3:].argmax(), data[:, 3:].shape)\n",
    "date = data[2161, :3]\n",
    "print(date[::-1])"
   ]
  },
  {
   "cell_type": "code",
   "execution_count": 23,
   "metadata": {
    "ExecuteTime": {
     "end_time": "2020-06-24T09:12:18.730278Z",
     "start_time": "2020-06-24T09:12:18.727794Z"
    }
   },
   "outputs": [
    {
     "name": "stdout",
     "output_type": "stream",
     "text": [
      "[14.86955197 12.92166667 13.29962366  7.19949821 11.67571685  8.05483871\n",
      " 11.81935484  9.5094086   9.54320789 10.05356631 14.55051971 18.02876344]\n"
     ]
    }
   ],
   "source": [
    "jan_data = data[data[:,1] == 1]\n",
    "jan_mean = jan_data[:, 3:].mean(axis=0)\n",
    "print(jan_mean)"
   ]
  },
  {
   "cell_type": "code",
   "execution_count": 19,
   "metadata": {
    "ExecuteTime": {
     "end_time": "2020-06-24T08:54:18.497039Z",
     "start_time": "2020-06-24T08:54:18.484224Z"
    }
   },
   "outputs": [
    {
     "name": "stdout",
     "output_type": "stream",
     "text": [
      "216\n"
     ]
    }
   ],
   "source": [
    "#Bonus1\n",
    "speeds = {}\n",
    "year = range(61, 79)\n",
    "month = range(1,13)\n",
    "\n",
    "for y in year:\n",
    "    yearly_data = data[data[:,0] == y]\n",
    "    for m in month:\n",
    "        monthly_data = data[data[:,1] == m]\n",
    "        mean = monthly_data[:, 3:].mean()\n",
    "        speeds[(y, m)] = mean\n",
    "\n",
    "print(len(speeds))"
   ]
  },
  {
   "cell_type": "code",
   "execution_count": 22,
   "metadata": {
    "ExecuteTime": {
     "end_time": "2020-06-24T08:59:55.448569Z",
     "start_time": "2020-06-24T08:59:55.445533Z"
    }
   },
   "outputs": [
    {
     "name": "stdout",
     "output_type": "stream",
     "text": [
      "[ True False False False False False False  True False False False False\n",
      " False False  True False False False False False False  True False False\n",
      " False False False False  True False False False False False False  True\n",
      " False False False False False False  True False False False False False\n",
      " False  True False False False False False False  True False False False\n",
      " False False False  True False False False False False False  True False\n",
      " False False False False False  True False False False False False False\n",
      "  True False False False False False False  True False False False False\n",
      " False False  True False False False False False False  True False False\n",
      " False False False False  True False False False False False False  True\n",
      " False False False False False False  True False False False False False\n",
      " False  True False False False False False False  True False False False\n",
      " False False False  True False False False False False False  True False\n",
      " False False False False False  True False False False False False False\n",
      "  True False False False False False False  True False False False False\n",
      " False False  True False False False False False False  True False False\n",
      " False False False False  True False False False False False False  True\n",
      " False False False False False False  True False False False False False\n",
      " False  True False False False False False False  True False False False\n",
      " False False False  True False False False False False False  True False\n",
      " False False False False False  True False False False False False False\n",
      "  True False False False False False False  True False False False False\n",
      " False False  True False False False False False False  True False False\n",
      " False False False False  True False False False False False False  True\n",
      " False False False False False False  True False False False False False\n",
      " False  True False False False False False False  True False False False\n",
      " False False False  True False False False False False False  True False\n",
      " False False False False False  True False False False False False False\n",
      "  True False False False False False False  True False False False False\n",
      " False False  True False False False False False False  True False False\n",
      " False False False False  True False]\n"
     ]
    }
   ],
   "source": [
    "#Bonus2\n",
    "first_year_data = data[data[:,0] == 61]\n",
    "first_year_speeds = first_year_data[:, 3:]\n",
    "weeks = np.arange(366) % 7 == 0\n",
    "print(weeks)"
   ]
  },
  {
   "cell_type": "code",
   "execution_count": null,
   "metadata": {},
   "outputs": [],
   "source": []
  }
 ],
 "metadata": {
  "kernelspec": {
   "display_name": "Python 3",
   "language": "python",
   "name": "python3"
  },
  "language_info": {
   "codemirror_mode": {
    "name": "ipython",
    "version": 3
   },
   "file_extension": ".py",
   "mimetype": "text/x-python",
   "name": "python",
   "nbconvert_exporter": "python",
   "pygments_lexer": "ipython3",
   "version": "3.7.4"
  },
  "toc": {
   "base_numbering": 1,
   "nav_menu": {},
   "number_sections": true,
   "sideBar": true,
   "skip_h1_title": false,
   "title_cell": "Table of Contents",
   "title_sidebar": "Contents",
   "toc_cell": false,
   "toc_position": {},
   "toc_section_display": true,
   "toc_window_display": false
  },
  "varInspector": {
   "cols": {
    "lenName": 16,
    "lenType": 16,
    "lenVar": 40
   },
   "kernels_config": {
    "python": {
     "delete_cmd_postfix": "",
     "delete_cmd_prefix": "del ",
     "library": "var_list.py",
     "varRefreshCmd": "print(var_dic_list())"
    },
    "r": {
     "delete_cmd_postfix": ") ",
     "delete_cmd_prefix": "rm(",
     "library": "var_list.r",
     "varRefreshCmd": "cat(var_dic_list()) "
    }
   },
   "types_to_exclude": [
    "module",
    "function",
    "builtin_function_or_method",
    "instance",
    "_Feature"
   ],
   "window_display": false
  }
 },
 "nbformat": 4,
 "nbformat_minor": 4
}
