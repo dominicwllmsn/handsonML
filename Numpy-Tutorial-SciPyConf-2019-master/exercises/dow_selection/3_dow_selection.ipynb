{
 "cells": [
  {
   "cell_type": "code",
   "execution_count": 33,
   "metadata": {
    "ExecuteTime": {
     "end_time": "2020-06-24T12:16:00.425071Z",
     "start_time": "2020-06-24T12:16:00.345272Z"
    }
   },
   "outputs": [
    {
     "name": "stdout",
     "output_type": "stream",
     "text": [
      "18\n",
      "(array([ 12,  13,  15,  51,  54, 123, 125, 129, 131, 132, 134, 135, 136,\n",
      "       137, 139, 140, 141, 145]), array([4, 4, 4, 4, 4, 4, 4, 4, 4, 4, 4, 4, 4, 4, 4, 4, 4, 4]))\n"
     ]
    },
    {
     "data": {
      "text/plain": [
       "([<matplotlib.axis.YTick at 0x7f6beffd1410>,\n",
       "  <matplotlib.axis.YTick at 0x7f6beffd1710>,\n",
       "  <matplotlib.axis.YTick at 0x7f6bf0042290>,\n",
       "  <matplotlib.axis.YTick at 0x7f6beffe8dd0>,\n",
       "  <matplotlib.axis.YTick at 0x7f6beffee390>,\n",
       "  <matplotlib.axis.YTick at 0x7f6beffee890>,\n",
       "  <matplotlib.axis.YTick at 0x7f6beffee790>],\n",
       " <a list of 7 Text major ticklabel objects>)"
      ]
     },
     "execution_count": 33,
     "metadata": {},
     "output_type": "execute_result"
    },
    {
     "data": {
      "image/png": "[encoded data removed]",
      "text/plain": [
       "<Figure size 432x288 with 1 Axes>"
      ]
     },
     "metadata": {
      "needs_background": "light"
     },
     "output_type": "display_data"
    }
   ],
   "source": [
    "\"\"\"\n",
    "Dow Selection\n",
    "-------------\n",
    "\n",
    "Topics: Boolean array operators, sum function, where function, plotting.\n",
    "\n",
    "The array 'dow' is a 2-D array with each row holding the\n",
    "daily performance of the Dow Jones Industrial Average from the\n",
    "beginning of 2008 (dates have been removed for exercise simplicity).\n",
    "The array has the following structure::\n",
    "\n",
    "       OPEN      HIGH      LOW       CLOSE     VOLUME      ADJ_CLOSE\n",
    "       13261.82  13338.23  12969.42  13043.96  3452650000  13043.96\n",
    "       13044.12  13197.43  12968.44  13056.72  3429500000  13056.72\n",
    "       13046.56  13049.65  12740.51  12800.18  4166000000  12800.18\n",
    "       12801.15  12984.95  12640.44  12827.49  4221260000  12827.49\n",
    "       12820.9   12998.11  12511.03  12589.07  4705390000  12589.07\n",
    "       12590.21  12814.97  12431.53  12735.31  5351030000  12735.31\n",
    "\n",
    "0. The data has been loaded from a .csv file for you.\n",
    "1. Create a \"mask\" array that indicates which rows have a volume\n",
    "   greater than 5.5 billion.\n",
    "2. How many are there?  (hint: use sum).\n",
    "3. Find the index of every row (or day) where the volume is greater\n",
    "   than 5.5 billion. hint: look at the where() command.\n",
    "\n",
    "Bonus\n",
    "~~~~~\n",
    "\n",
    "1. Plot the adjusted close for *every* day in 2008.\n",
    "2. Now over-plot this plot with a 'red dot' marker for every\n",
    "   day where the volume was greater than 5.5 billion.\n",
    "\n",
    "See :ref:`dow-selection-solution`.\n",
    "\"\"\"\n",
    "\n",
    "from numpy import loadtxt, sum, where\n",
    "import matplotlib.pyplot as plt\n",
    "# Constants that indicate what data is held in each column of\n",
    "# the 'dow' array.\n",
    "OPEN = 0\n",
    "HIGH = 1\n",
    "LOW = 2\n",
    "CLOSE = 3\n",
    "VOLUME = 4\n",
    "ADJ_CLOSE = 5\n",
    "\n",
    "# 0. The data has been loaded from a .csv file for you.\n",
    "\n",
    "# 'dow' is our NumPy array that we will manipulate.\n",
    "dow = loadtxt('dow.csv', delimiter=',')\n",
    "\n",
    "# 1. Create a \"mask\" array that indicates which rows have a volume\n",
    "#    greater than 5.5 billion.\n",
    "mask = dow[:, 4] > 5500000000\n",
    "\n",
    "# 2. How many are there?  (hint: use sum).\n",
    "print(mask.sum())\n",
    "\n",
    "# 3. Find the index of every row (or day) where the volume is greater\n",
    "#    than 5.5 billion. hint: look at the where() command.\n",
    "indx = where(dow > 5500000000)\n",
    "print(indx)\n",
    "# BONUS:\n",
    "# a. Plot the adjusted close for EVERY day in 2008.\n",
    "# b. Now over-plot this plot with a 'red dot' marker for every\n",
    "#    day where the volume was greater than 5.5 billion.\n",
    "%matplotlib inline\n",
    "plt.plot(np.arange(dow.shape[0]), dow[:, 5], 'g-', alpha=0.7)\n",
    "plt.plot(indx[0], dow[indx[0], 5], 'ro', alpha=0.8)\n",
    "plt.xlabel(\"Days since 01/01/2008\")\n",
    "plt.ylabel(\"Adjusted close of DOW JONES\")\n",
    "plt.yticks(range(10500,14000,500))"
   ]
  },
  {
   "cell_type": "code",
   "execution_count": null,
   "metadata": {},
   "outputs": [],
   "source": []
  }
 ],
 "metadata": {
  "kernelspec": {
   "display_name": "Python 3",
   "language": "python",
   "name": "python3"
  },
  "language_info": {
   "codemirror_mode": {
    "name": "ipython",
    "version": 3
   },
   "file_extension": ".py",
   "mimetype": "text/x-python",
   "name": "python",
   "nbconvert_exporter": "python",
   "pygments_lexer": "ipython3",
   "version": "3.7.4"
  },
  "toc": {
   "base_numbering": 1,
   "nav_menu": {},
   "number_sections": true,
   "sideBar": true,
   "skip_h1_title": false,
   "title_cell": "Table of Contents",
   "title_sidebar": "Contents",
   "toc_cell": false,
   "toc_position": {},
   "toc_section_display": true,
   "toc_window_display": false
  },
  "varInspector": {
   "cols": {
    "lenName": 16,
    "lenType": 16,
    "lenVar": 40
   },
   "kernels_config": {
    "python": {
     "delete_cmd_postfix": "",
     "delete_cmd_prefix": "del ",
     "library": "var_list.py",
     "varRefreshCmd": "print(var_dic_list())"
    },
    "r": {
     "delete_cmd_postfix": ") ",
     "delete_cmd_prefix": "rm(",
     "library": "var_list.r",
     "varRefreshCmd": "cat(var_dic_list()) "
    }
   },
   "types_to_exclude": [
    "module",
    "function",
    "builtin_function_or_method",
    "instance",
    "_Feature"
   ],
   "window_display": false
  }
 },
 "nbformat": 4,
 "nbformat_minor": 4
}
