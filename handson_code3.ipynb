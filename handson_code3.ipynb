{
 "cells": [
  {
   "cell_type": "code",
   "execution_count": 1,
   "metadata": {
    "ExecuteTime": {
     "end_time": "2020-07-27T16:38:01.241647Z",
     "start_time": "2020-07-27T16:37:42.581780Z"
    }
   },
   "outputs": [
    {
     "data": {
      "text/plain": [
       "dict_keys(['data', 'target', 'frame', 'feature_names', 'target_names', 'DESCR', 'details', 'categories', 'url'])"
      ]
     },
     "execution_count": 1,
     "metadata": {},
     "output_type": "execute_result"
    }
   ],
   "source": [
    "from sklearn.datasets import fetch_openml\n",
    "\n",
    "mnist = fetch_openml('mnist_784', version=1)\n",
    "mnist.keys()"
   ]
  },
  {
   "cell_type": "code",
   "execution_count": 2,
   "metadata": {
    "ExecuteTime": {
     "end_time": "2020-07-27T16:38:48.260827Z",
     "start_time": "2020-07-27T16:38:48.258369Z"
    }
   },
   "outputs": [
    {
     "data": {
      "text/plain": [
       "((70000, 784), (70000,))"
      ]
     },
     "execution_count": 2,
     "metadata": {},
     "output_type": "execute_result"
    }
   ],
   "source": [
    "X, y = mnist['data'], mnist['target']\n",
    "X.shape, y.shape"
   ]
  },
  {
   "cell_type": "code",
   "execution_count": 7,
   "metadata": {
    "ExecuteTime": {
     "end_time": "2020-07-27T16:41:35.567748Z",
     "start_time": "2020-07-27T16:41:35.537895Z"
    }
   },
   "outputs": [
    {
     "data": {
      "image/png": "[encoded data removed]",
      "text/plain": [
       "<Figure size 432x288 with 1 Axes>"
      ]
     },
     "metadata": {
      "needs_background": "light"
     },
     "output_type": "display_data"
    },
    {
     "name": "stdout",
     "output_type": "stream",
     "text": [
      "5\n"
     ]
    }
   ],
   "source": [
    "import matplotlib as mpl\n",
    "import matplotlib.pyplot as plt\n",
    "\n",
    "some_digit = X[0]\n",
    "some_digit_image = some_digit.reshape(28, 28)\n",
    "\n",
    "plt.imshow(some_digit_image, cmap='binary')\n",
    "plt.axis('off')\n",
    "plt.show()\n",
    "print(y[0])"
   ]
  },
  {
   "cell_type": "code",
   "execution_count": 8,
   "metadata": {
    "ExecuteTime": {
     "end_time": "2020-07-27T16:42:02.454412Z",
     "start_time": "2020-07-27T16:42:02.449043Z"
    }
   },
   "outputs": [],
   "source": [
    "#Since ML algo requires numbers as labels, cast y to uint8\n",
    "y = y.astype(np.uint8)"
   ]
  },
  {
   "cell_type": "code",
   "execution_count": 9,
   "metadata": {
    "ExecuteTime": {
     "end_time": "2020-07-27T16:46:10.198988Z",
     "start_time": "2020-07-27T16:46:10.196970Z"
    }
   },
   "outputs": [],
   "source": [
    "#Need to split into train/test sets early on. MNIST has already split and shuffled it for us\n",
    "#Important that training set is shuffled, so each validation fold is similar and contains instances of each type of digit \n",
    "X_train, X_test, y_train, y_test = X[:60000], X[60000:], y[:60000], y[60000:]"
   ]
  },
  {
   "cell_type": "code",
   "execution_count": 10,
   "metadata": {
    "ExecuteTime": {
     "end_time": "2020-07-27T16:49:22.459667Z",
     "start_time": "2020-07-27T16:49:10.373961Z"
    }
   },
   "outputs": [
    {
     "data": {
      "text/plain": [
       "SGDClassifier(alpha=0.0001, average=False, class_weight=None,\n",
       "              early_stopping=False, epsilon=0.1, eta0=0.0, fit_intercept=True,\n",
       "              l1_ratio=0.15, learning_rate='optimal', loss='hinge',\n",
       "              max_iter=1000, n_iter_no_change=5, n_jobs=None, penalty='l2',\n",
       "              power_t=0.5, random_state=42, shuffle=True, tol=0.001,\n",
       "              validation_fraction=0.1, verbose=0, warm_start=False)"
      ]
     },
     "execution_count": 10,
     "metadata": {},
     "output_type": "execute_result"
    }
   ],
   "source": [
    "#Binary classifier\n",
    "from sklearn.linear_model import SGDClassifier\n",
    "\n",
    "y_train_5 = (y_train == 5)\n",
    "y_test_5 = (y_test == 5)\n",
    "\n",
    "sgd_clf = SGDClassifier(random_state=42)\n",
    "sgd_clf.fit(X_train, y_train_5)"
   ]
  },
  {
   "cell_type": "code",
   "execution_count": 11,
   "metadata": {
    "ExecuteTime": {
     "end_time": "2020-07-27T16:49:33.114770Z",
     "start_time": "2020-07-27T16:49:33.112198Z"
    }
   },
   "outputs": [
    {
     "data": {
      "text/plain": [
       "array([ True])"
      ]
     },
     "execution_count": 11,
     "metadata": {},
     "output_type": "execute_result"
    }
   ],
   "source": [
    "sgd_clf.predict([some_digit])"
   ]
  },
  {
   "cell_type": "code",
   "execution_count": 14,
   "metadata": {
    "ExecuteTime": {
     "end_time": "2020-07-27T16:55:14.696365Z",
     "start_time": "2020-07-27T16:54:58.169938Z"
    }
   },
   "outputs": [
    {
     "name": "stdout",
     "output_type": "stream",
     "text": [
      "0.95035\n",
      "0.96035\n",
      "0.9604\n"
     ]
    }
   ],
   "source": [
    "#Implementing cross-validation to give more control than sklearn implementation\n",
    "from sklearn.model_selection import StratifiedKFold\n",
    "from sklearn.base import clone\n",
    "\n",
    "skfolds = StratifiedKFold(n_splits=3) #3 folds, so equivalent to 3 fold CV\n",
    "\n",
    "for train_index, test_index in skfolds.split(X_train, y_train_5):\n",
    "    clone_clf = clone(sgd_clf)\n",
    "    X_train_folds = X_train[train_index]\n",
    "    y_train_folds = y_train_5[train_index]\n",
    "    X_test_fold = X_train[test_index]\n",
    "    y_test_fold = y_train_5[test_index]\n",
    "    \n",
    "    clone_clf.fit(X_train_folds, y_train_folds)\n",
    "    y_pred = clone_clf.predict(X_test_fold)\n",
    "    n_correct = sum(y_pred == y_test_fold)\n",
    "    print(n_correct / len(y_pred))"
   ]
  },
  {
   "cell_type": "code",
   "execution_count": 15,
   "metadata": {
    "ExecuteTime": {
     "end_time": "2020-07-27T16:58:22.209021Z",
     "start_time": "2020-07-27T16:58:05.806055Z"
    }
   },
   "outputs": [
    {
     "data": {
      "text/plain": [
       "array([0.95035, 0.96035, 0.9604 ])"
      ]
     },
     "execution_count": 15,
     "metadata": {},
     "output_type": "execute_result"
    }
   ],
   "source": [
    "from sklearn.model_selection import cross_val_score\n",
    "cross_val_score(sgd_clf, X_train, y_train_5, cv=3, scoring='accuracy')"
   ]
  },
  {
   "cell_type": "code",
   "execution_count": 16,
   "metadata": {
    "ExecuteTime": {
     "end_time": "2020-07-27T17:01:20.536090Z",
     "start_time": "2020-07-27T17:01:19.662543Z"
    }
   },
   "outputs": [
    {
     "data": {
      "text/plain": [
       "array([0.91125, 0.90855, 0.90915])"
      ]
     },
     "execution_count": 16,
     "metadata": {},
     "output_type": "execute_result"
    }
   ],
   "source": [
    "#above 95% on all folds; however, observe teh results of a dumb classifier which classifies all images as not-5 \n",
    "#Since only around 10% are 5, always guessing an image is 5 will be right about 90% of the time \n",
    "from sklearn.base import BaseEstimator\n",
    "\n",
    "class Never5Classifier(BaseEstimator):\n",
    "    def fit(self, X, y=None):\n",
    "        return self\n",
    "    def predict(self, X):\n",
    "        return np.zeros((len(X), 1), dtype=bool)\n",
    "    \n",
    "never_5_clf = Never5Classifier()\n",
    "cross_val_score(never_5_clf, X_train, y_train_5, cv=3, scoring='accuracy')"
   ]
  },
  {
   "cell_type": "code",
   "execution_count": 18,
   "metadata": {
    "ExecuteTime": {
     "end_time": "2020-07-27T17:07:16.431279Z",
     "start_time": "2020-07-27T17:06:59.945718Z"
    }
   },
   "outputs": [
    {
     "data": {
      "text/plain": [
       "array([ True, False, False, ...,  True, False, False])"
      ]
     },
     "execution_count": 18,
     "metadata": {},
     "output_type": "execute_result"
    }
   ],
   "source": [
    "#So accuracy is not the preferred performance measure for classifiers, esp fro skewed datasets where some classes are\n",
    "#much more frequent than others. A better measure is the confusion matrix\n",
    "#cross_val_predict performs K-fold CV, but instead of returning the evaluation scores like cross_val_score, it returns\n",
    "#the predictions made on each test fold\n",
    "\n",
    "from sklearn.model_selection import cross_val_predict\n",
    "\n",
    "y_train_pred = cross_val_predict(sgd_clf, X_train, y_train_5, cv=3)"
   ]
  },
  {
   "cell_type": "code",
   "execution_count": 23,
   "metadata": {
    "ExecuteTime": {
     "end_time": "2020-07-27T17:23:07.187782Z",
     "start_time": "2020-07-27T17:23:07.144513Z"
    }
   },
   "outputs": [
    {
     "data": {
      "text/plain": [
       "(array([[53892,   687],\n",
       "        [ 1891,  3530]]),\n",
       " 'Perfect classifier:',\n",
       " array([[54579,     0],\n",
       "        [    0,  5421]]))"
      ]
     },
     "execution_count": 23,
     "metadata": {},
     "output_type": "execute_result"
    }
   ],
   "source": [
    "#Each row of the confusion matrix represents a class, and each column represents a predicted class\n",
    "#The 1st row is non-5 images (negative class) - 53892 were correctly classified as non-5 (true neg), 687 wrongly\n",
    "#classified as 5 (false pos), \n",
    "#The 2nd row is the 5 images (positive class) - while 1891 were wrongly classed as non-5 (false neg), 3530 correctly \n",
    "#classed as 5 (true pos)\n",
    "from sklearn.metrics import confusion_matrix\n",
    "\n",
    "confusion_matrix(y_train_5, y_train_pred), \"Perfect classifier:\", confusion_matrix(y_train_5, y_train_5)"
   ]
  },
  {
   "cell_type": "code",
   "execution_count": 27,
   "metadata": {
    "ExecuteTime": {
     "end_time": "2020-07-27T17:28:05.355606Z",
     "start_time": "2020-07-27T17:28:05.330473Z"
    }
   },
   "outputs": [
    {
     "data": {
      "text/plain": [
       "(0.8370879772350012, 0.6511713705958311)"
      ]
     },
     "execution_count": 27,
     "metadata": {},
     "output_type": "execute_result"
    }
   ],
   "source": [
    "#From the confusion matrix, we can define the precision of the classifier - the accuracy of positive predictions TP/(TP+FP)\n",
    "#We use this metric alongside recall, also called sensitivity or the true positive rate - the ratio of positive instances\n",
    "#that are correctly detected by the classifier TP/(TP+FN)\n",
    "\n",
    "from sklearn.metrics import precision_score, recall_score\n",
    "\n",
    "precision_score(y_train_5, y_train_pred), recall_score(y_train_5, y_train_pred)\n",
    "#so when the classfier claims an image is a 5, it is correct 83.7%. Meanwhile it only detects 65.1% of the 5s. \n"
   ]
  },
  {
   "cell_type": "code",
   "execution_count": 28,
   "metadata": {
    "ExecuteTime": {
     "end_time": "2020-07-27T17:30:56.956804Z",
     "start_time": "2020-07-27T17:30:56.943104Z"
    }
   },
   "outputs": [
    {
     "data": {
      "text/plain": [
       "0.7325171197343846"
      ]
     },
     "execution_count": 28,
     "metadata": {},
     "output_type": "execute_result"
    }
   ],
   "source": [
    "#We can conviniently combine precision and recall into a single metric, the F1 score. It is the harmonic mean of precision\n",
    "#and recall (regular mean treats all values equally, harmonic mean gives much more weight to low values, hence a classifier\n",
    "#only has a high F1 score if both recall and precision are high). F1 = 2/(1/precision + 1/recall)\n",
    "\n",
    "from sklearn.metrics import f1_score\n",
    "\n",
    "f1_score(y_train_5, y_train_pred)\n",
    "#F1 score favors classfiers with similar precision and recall, although this is not always what you want. High recall\n",
    "#is desirable for a security system, even if there are lots of false alerts, all threats will be caught) while high\n",
    "#precision is desirable in a filter for kids videos (you can afford to reject many good ones, keeping only definite safe\n",
    "#ones). Precision and recall also have a trade off, as one increases the other decreases, with a meeting point inbetween."
   ]
  },
  {
   "cell_type": "code",
   "execution_count": 30,
   "metadata": {
    "ExecuteTime": {
     "end_time": "2020-07-27T18:55:29.801995Z",
     "start_time": "2020-07-27T18:55:29.798915Z"
    }
   },
   "outputs": [
    {
     "data": {
      "text/plain": [
       "array([False])"
      ]
     },
     "execution_count": 30,
     "metadata": {},
     "output_type": "execute_result"
    }
   ],
   "source": [
    "#It is possible to change the threshold above which the classifier determines an instance to be a positive case. The\n",
    "#decision function determines a score and the location of the threshold determines if the instance is positive or negative.\n",
    "#By default, the SGD classifier has threshold of 0.\n",
    "\n",
    "y_scores = sgd_clf.decision_function([some_digit])\n",
    "threshold = 8000\n",
    "y_some_digit_pred = (y_scores > threshold)\n",
    "y_some_digit_pred #raising the threshold decreases recall, but increases precision"
   ]
  },
  {
   "cell_type": "code",
   "execution_count": 32,
   "metadata": {
    "ExecuteTime": {
     "end_time": "2020-07-27T19:01:19.440355Z",
     "start_time": "2020-07-27T19:01:02.955305Z"
    }
   },
   "outputs": [
    {
     "data": {
      "text/plain": [
       "(59967, 59967, 59966)"
      ]
     },
     "execution_count": 32,
     "metadata": {},
     "output_type": "execute_result"
    }
   ],
   "source": [
    "#To decide on a threshold:\n",
    "\n",
    "from sklearn.metrics import precision_recall_curve\n",
    "\n",
    "y_scores = cross_val_predict(sgd_clf, X_train, y_train_5, cv=3,\n",
    "                             method='decision_function')\n",
    "\n",
    "precisions, recalls, thresholds = precision_recall_curve(y_train_5, y_scores)\n",
    "len(precisions), len(recalls), len(thresholds)"
   ]
  },
  {
   "cell_type": "code",
   "execution_count": 36,
   "metadata": {
    "ExecuteTime": {
     "end_time": "2020-07-27T19:02:54.392918Z",
     "start_time": "2020-07-27T19:02:54.256730Z"
    }
   },
   "outputs": [
    {
     "data": {
      "image/png": "[encoded data removed]",
      "text/plain": [
       "<Figure size 432x288 with 1 Axes>"
      ]
     },
     "metadata": {
      "needs_background": "light"
     },
     "output_type": "display_data"
    }
   ],
   "source": [
    "def plot_precision_recall_vs_threshold(precisions, recalls, thresholds):\n",
    "    plt.plot(thresholds, precisions[:-1], 'b--', label='Precision')\n",
    "    plt.plot(thresholds, recalls[:-1], 'g-', label='Recall')\n",
    "    plt.xlabel(\"Threshold\")\n",
    "    plt.xlim(-50000,50000)\n",
    "    plt.ylim(0.,1.)\n",
    "    plt.grid()\n",
    "    plt.legend()\n",
    "\n",
    "plot_precision_recall_vs_threshold(precisions, recalls, thresholds)\n",
    "plt.show()\n",
    "#See Figure 3-3 to find out why precision is bumpy/does not always rise with increased threshold, but does on the whole"
   ]
  },
  {
   "cell_type": "code",
   "execution_count": 41,
   "metadata": {
    "ExecuteTime": {
     "end_time": "2020-07-27T19:09:58.573994Z",
     "start_time": "2020-07-27T19:09:58.495805Z"
    }
   },
   "outputs": [
    {
     "data": {
      "image/png": "[encoded data removed]",
      "text/plain": [
       "<Figure size 432x288 with 1 Axes>"
      ]
     },
     "metadata": {
      "needs_background": "light"
     },
     "output_type": "display_data"
    }
   ],
   "source": [
    "#Sharp dip in precision after around 80% recall\n",
    "plt.plot(recalls, precisions, 'b-')\n",
    "plt.xlabel('Recall')\n",
    "plt.ylabel('Precision')\n",
    "plt.xlim(0.,1.)\n",
    "plt.ylim(0.,1.)\n",
    "plt.grid()\n",
    "plt.show()"
   ]
  },
  {
   "cell_type": "code",
   "execution_count": 42,
   "metadata": {
    "ExecuteTime": {
     "end_time": "2020-07-27T19:18:26.061563Z",
     "start_time": "2020-07-27T19:18:26.036287Z"
    }
   },
   "outputs": [
    {
     "data": {
      "text/plain": [
       "(0.9000345901072293, 0.4799852425751706)"
      ]
     },
     "execution_count": 42,
     "metadata": {},
     "output_type": "execute_result"
    }
   ],
   "source": [
    "#If you want 90% precision, can see from graph it is around 8000 threshold\n",
    "#Here, argmax returns the location of first True value, which will be the lowest threshold giving 90%\n",
    "\n",
    "threshold_90_precision = thresholds[np.argmax(precisions >= 0.90)] \n",
    "\n",
    "#y_scores is the array with the results of the decision function for each instance\n",
    "y_train_pred_90 = (y_scores >= threshold_90_precision)\n",
    "\n",
    "precision_score(y_train_5, y_train_pred_90), recall_score(y_train_5, y_train_pred_90)"
   ]
  },
  {
   "cell_type": "code",
   "execution_count": 43,
   "metadata": {
    "ExecuteTime": {
     "end_time": "2020-07-27T19:24:37.850817Z",
     "start_time": "2020-07-27T19:24:37.841507Z"
    }
   },
   "outputs": [],
   "source": [
    "#An ROC (reciever operating characteristic) curve is often used with binary classifiers - it is similar to the precision-\n",
    "#recall curve, but instead plots the TPR (true pos rate, i.e. recall) against the FPR (false pos rate). The FPR is equal \n",
    "#to 1-TNR, the true neg rate (the ratio of negative instances correctly classified as negative). The TNR is also called\n",
    "#specificity, so the ROC curve plots sensitivity (recall) against 1-specificity.\n",
    "\n",
    "from sklearn.metrics import roc_curve\n",
    "#roc_curve computes the TPR and FPR for various threshold values\n",
    "fpr, tpr, thresholds = roc_curve(y_train_5, y_scores)"
   ]
  },
  {
   "cell_type": "code",
   "execution_count": 45,
   "metadata": {
    "ExecuteTime": {
     "end_time": "2020-07-27T19:27:33.261500Z",
     "start_time": "2020-07-27T19:27:33.187142Z"
    }
   },
   "outputs": [
    {
     "data": {
      "image/png": "[encoded data removed]",
      "text/plain": [
       "<Figure size 432x288 with 1 Axes>"
      ]
     },
     "metadata": {
      "needs_background": "light"
     },
     "output_type": "display_data"
    }
   ],
   "source": [
    "#So, the higher the recall (TPR), the more false positives (FPR) the classifier produces. The dotted line is the\n",
    "#ROC curve of a random classifier - a good classifier stays as far away as possible from this line (so, top-left corner)\n",
    "def plot_roc_curve(fpr, tpr, label=None):\n",
    "    plt.plot(fpr, tpr, linewidth=2, label=label)\n",
    "    plt.plot([0,1], [0,1], 'k--')\n",
    "    plt.xlabel('FPR')\n",
    "    plt.ylabel('TPR')\n",
    "    plt.xlim(0.,1.)\n",
    "    plt.ylim(0.,1.)\n",
    "    plt.grid()\n",
    "\n",
    "plot_roc_curve(fpr, tpr)\n",
    "plt.show()"
   ]
  },
  {
   "cell_type": "code",
   "execution_count": 46,
   "metadata": {
    "ExecuteTime": {
     "end_time": "2020-07-27T19:32:44.519345Z",
     "start_time": "2020-07-27T19:32:44.505597Z"
    }
   },
   "outputs": [
    {
     "data": {
      "text/plain": [
       "0.9604938554008616"
      ]
     },
     "execution_count": 46,
     "metadata": {},
     "output_type": "execute_result"
    }
   ],
   "source": [
    "#It is possible to compare classifiers by measureing the area under the curve (AUC), a perfect classifier has a ROC AUC = 1\n",
    "#and a purely random classifier AUC = 0.5\n",
    "\n",
    "from sklearn.metrics import roc_auc_score\n",
    "roc_auc_score(y_train_5, y_scores)\n",
    "\n",
    "#In general, you should prefer the PR curve whenever the postive class is rare or when you care more about false pos than\n",
    "#about false neg. Otherwise, use the ROC curve. Given an AUC of 0.96, the classifier seems good, but this is mostly because\n",
    "#there are few positives (5s) compared to negatives (non-5s). In contrast, the PR curve makes it clear the classifier\n",
    "#has room for imporvement (the curve could be closer to the top left corner)."
   ]
  },
  {
   "cell_type": "code",
   "execution_count": 47,
   "metadata": {
    "ExecuteTime": {
     "end_time": "2020-07-27T19:40:07.510986Z",
     "start_time": "2020-07-27T19:39:24.040269Z"
    }
   },
   "outputs": [],
   "source": [
    "#Now train a RandomForestClassifier and compare to ROC and ROC AUC score to the above SGDClassifier. However, the \n",
    "#RandomForestCLassifier does not have a decision_function() method we can use to get the scores, instead it has a \n",
    "#predict_proba() method, returning an array containing a row per instance and column per class, each element is a prob\n",
    "#of the instance belonging to each class.\n",
    "\n",
    "from sklearn.ensemble import RandomForestClassifier\n",
    "\n",
    "forest_clf = RandomForestClassifier(random_state=42)\n",
    "y_probas_forest = cross_val_predict(forest_clf, X_train, y_train_5, cv=3,\n",
    "                                   method='predict_proba')"
   ]
  },
  {
   "cell_type": "code",
   "execution_count": 48,
   "metadata": {
    "ExecuteTime": {
     "end_time": "2020-07-27T19:41:48.112288Z",
     "start_time": "2020-07-27T19:41:48.106213Z"
    }
   },
   "outputs": [],
   "source": [
    "y_scores_forest = y_probas_forest[:, 1] #score = proba of positive class\n",
    "#roc_curve() expects labels and scores, but can give it class probablities instead of scores\n",
    "fpr_forest, tpr_forest, thresholds_forest = roc_curve(y_train_5, y_scores_forest)"
   ]
  },
  {
   "cell_type": "code",
   "execution_count": 63,
   "metadata": {
    "ExecuteTime": {
     "end_time": "2020-07-27T20:03:48.659372Z",
     "start_time": "2020-07-27T20:03:48.568141Z"
    }
   },
   "outputs": [
    {
     "data": {
      "image/png": "[encoded data removed]",
      "text/plain": [
       "<Figure size 432x288 with 1 Axes>"
      ]
     },
     "metadata": {
      "needs_background": "light"
     },
     "output_type": "display_data"
    },
    {
     "name": "stdout",
     "output_type": "stream",
     "text": [
      "0.9983436731328145\n"
     ]
    }
   ],
   "source": [
    "#Plotting both ROC curves we see that the RF is superior to SGD as its curve is closer to the top-left corner + larger AUC\n",
    "plt.plot(fpr, tpr, 'b:', label='SGD')\n",
    "plot_roc_curve(fpr_forest, tpr_forest, \"Random Forest\")\n",
    "plt.legend(loc='lower right')\n",
    "plt.show()\n",
    "print(roc_auc_score(y_train_5, y_scores_forest))"
   ]
  },
  {
   "cell_type": "code",
   "execution_count": 68,
   "metadata": {
    "ExecuteTime": {
     "end_time": "2020-07-27T20:04:46.040166Z",
     "start_time": "2020-07-27T20:04:45.934827Z"
    }
   },
   "outputs": [
    {
     "data": {
      "image/png": "[encoded data removed]",
      "text/plain": [
       "<Figure size 432x288 with 1 Axes>"
      ]
     },
     "metadata": {
      "needs_background": "light"
     },
     "output_type": "display_data"
    },
    {
     "name": "stdout",
     "output_type": "stream",
     "text": [
      "0.9460550458715596 0.9511160302527208\n"
     ]
    }
   ],
   "source": [
    "precisions_f, recalls_f, thresholds_f = precision_recall_curve(y_train_5, y_scores_forest)\n",
    "\n",
    "plt.plot(thresholds_f, precisions_f[:-1], 'b--', label='Precision')\n",
    "plt.plot(thresholds_f, recalls_f[:-1], 'g-', label='Recall')\n",
    "plt.xlabel(\"Threshold\")\n",
    "plt.grid()\n",
    "plt.legend(loc='lower center')\n",
    "plt.show()\n",
    "\n",
    "y_scores_forest_bound = (y_scores_forest > 0.3)\n",
    "print(precision_score(y_train_5, y_scores_forest_bound), recall_score(y_train_5, y_scores_forest_bound))"
   ]
  },
  {
   "cell_type": "code",
   "execution_count": 69,
   "metadata": {
    "ExecuteTime": {
     "end_time": "2020-07-27T20:48:13.895427Z",
     "start_time": "2020-07-27T20:43:37.891432Z"
    }
   },
   "outputs": [
    {
     "data": {
      "text/plain": [
       "array([5], dtype=uint8)"
      ]
     },
     "execution_count": 69,
     "metadata": {},
     "output_type": "execute_result"
    }
   ],
   "source": [
    "#Multiclass classification can be done with different strategies:\n",
    "#(1) OvR (one versus the rest) where you train 10 binary classifiers, one for each dgiit, and compare decision scores,\n",
    "#picking the class whose classifier outputs the highest score\n",
    "#(2) OvO (one versus one) where you train a binary classifier for each pair of digits, so for N classes, train N(N-1)/2\n",
    "#classifiers (for N=10, 45 classifiers) and see which class wins the most duels. The advantage is that each classifier\n",
    "#only needs to be trained on the part of the training set for the two classes it needs to distinguish.\n",
    "#SVMs work better with OvO since they scale badly with the number of training examples. For most binary classification\n",
    "#algorithms, however, OvR is preferred. N.B. skleaern detects when you try to use a binary classification algo for a \n",
    "#multi-class task and automatically runs OvR or OvO depending on the algorithm\n",
    "\n",
    "from sklearn.svm import SVC\n",
    "\n",
    "svm_clf = SVC()\n",
    "svm_clf.fit(X_train, y_train)\n",
    "svm_clf.predict([some_digit])"
   ]
  },
  {
   "cell_type": "code",
   "execution_count": 71,
   "metadata": {
    "ExecuteTime": {
     "end_time": "2020-07-27T20:48:14.001910Z",
     "start_time": "2020-07-27T20:48:13.990771Z"
    }
   },
   "outputs": [
    {
     "data": {
      "text/plain": [
       "(array([[ 1.72501977,  2.72809088,  7.2510018 ,  8.3076379 , -0.31087254,\n",
       "          9.3132482 ,  1.70975103,  2.76765202,  6.23049537,  4.84771048]]),\n",
       " array([0, 1, 2, 3, 4, 5, 6, 7, 8, 9], dtype=uint8),\n",
       " 5)"
      ]
     },
     "execution_count": 71,
     "metadata": {},
     "output_type": "execute_result"
    }
   ],
   "source": [
    "#Notice the decision_function() outputs 10 scores per instance, one for every class\n",
    "some_digit_scores = svm_clf.decision_function([some_digit])\n",
    "some_digit_scores, svm_clf.classes_, svm_clf.classes_[np.argmax(some_digit_scores)]"
   ]
  },
  {
   "cell_type": "code",
   "execution_count": 72,
   "metadata": {
    "ExecuteTime": {
     "end_time": "2020-07-27T21:17:55.651420Z",
     "start_time": "2020-07-27T20:50:26.603175Z"
    }
   },
   "outputs": [
    {
     "data": {
      "text/plain": [
       "(array([5], dtype=uint8), 10)"
      ]
     },
     "execution_count": 72,
     "metadata": {},
     "output_type": "execute_result"
    }
   ],
   "source": [
    "#Can force the use of OvO or OvR using the respective classes\n",
    "from sklearn.multiclass import OneVsRestClassifier\n",
    "\n",
    "ovr_clf = OneVsRestClassifier(SVC())\n",
    "ovr_clf.fit(X_train, y_train)\n",
    "ovr_clf.predict([some_digit]), len(ovr_clf.estimators_)"
   ]
  },
  {
   "cell_type": "code",
   "execution_count": 73,
   "metadata": {
    "ExecuteTime": {
     "end_time": "2020-07-27T21:19:36.975041Z",
     "start_time": "2020-07-27T21:17:55.693815Z"
    }
   },
   "outputs": [
    {
     "data": {
      "text/plain": [
       "array([3], dtype=uint8)"
      ]
     },
     "execution_count": 73,
     "metadata": {},
     "output_type": "execute_result"
    }
   ],
   "source": [
    "#Training a multiclass SGDClassifier or RandomForestClassifier is just as easy. Note SGD and RF classifiers can\n",
    "#handle multiclass classification natively, so sklearn does not have to run OvR or OvO. The decision_function() method\n",
    "#now returns one value per class (per instance).\n",
    "sgd_clf.fit(X_train, y_train)\n",
    "sgd_clf.predict([some_digit])"
   ]
  },
  {
   "cell_type": "code",
   "execution_count": 77,
   "metadata": {
    "ExecuteTime": {
     "end_time": "2020-07-27T21:24:34.253311Z",
     "start_time": "2020-07-27T21:24:34.250554Z"
    }
   },
   "outputs": [
    {
     "data": {
      "text/plain": [
       "array([[-31893.03095419, -34419.69069632,  -9530.63950739,\n",
       "          1823.73154031, -22320.14822878,  -1385.80478895,\n",
       "        -26188.91070951, -16147.51323997,  -4604.35491274,\n",
       "        -12050.767298  ]])"
      ]
     },
     "execution_count": 77,
     "metadata": {},
     "output_type": "execute_result"
    }
   ],
   "source": [
    "sgd_clf.decision_function([some_digit])"
   ]
  },
  {
   "cell_type": "code",
   "execution_count": 78,
   "metadata": {
    "ExecuteTime": {
     "end_time": "2020-07-27T21:27:21.572060Z",
     "start_time": "2020-07-27T21:24:40.146927Z"
    }
   },
   "outputs": [
    {
     "data": {
      "text/plain": [
       "array([0.87365, 0.85835, 0.8689 ])"
      ]
     },
     "execution_count": 78,
     "metadata": {},
     "output_type": "execute_result"
    }
   ],
   "source": [
    "cross_val_score(sgd_clf, X_train, y_train, cv=3, scoring='accuracy')"
   ]
  },
  {
   "cell_type": "code",
   "execution_count": 80,
   "metadata": {
    "ExecuteTime": {
     "end_time": "2020-07-27T21:34:47.229123Z",
     "start_time": "2020-07-27T21:27:37.631182Z"
    }
   },
   "outputs": [
    {
     "data": {
      "text/plain": [
       "array([0.8983, 0.891 , 0.9018])"
      ]
     },
     "execution_count": 80,
     "metadata": {},
     "output_type": "execute_result"
    }
   ],
   "source": [
    "#Scores of around 85%, better than random guessing which would give 10%. Can increase accuracy by simply\n",
    "#using feature scaling on the inputs, giving us an accuracy closer to 90%\n",
    "from sklearn.preprocessing import StandardScaler\n",
    "\n",
    "scaler = StandardScaler()\n",
    "X_train_scaled = scaler.fit_transform(X_train.astype(np.float64))\n",
    "cross_val_score(sgd_clf, X_train_scaled, y_train, cv=3, scoring='accuracy')"
   ]
  },
  {
   "cell_type": "code",
   "execution_count": 82,
   "metadata": {
    "ExecuteTime": {
     "end_time": "2020-07-27T21:48:15.987092Z",
     "start_time": "2020-07-27T21:41:07.064070Z"
    }
   },
   "outputs": [
    {
     "data": {
      "text/plain": [
       "array([[5577,    0,   22,    5,    8,   43,   36,    6,  225,    1],\n",
       "       [   0, 6400,   37,   24,    4,   44,    4,    7,  212,   10],\n",
       "       [  27,   27, 5220,   92,   73,   27,   67,   36,  378,   11],\n",
       "       [  22,   17,  117, 5227,    2,  203,   27,   40,  403,   73],\n",
       "       [  12,   14,   41,    9, 5182,   12,   34,   27,  347,  164],\n",
       "       [  27,   15,   30,  168,   53, 4444,   75,   14,  535,   60],\n",
       "       [  30,   15,   42,    3,   44,   97, 5552,    3,  131,    1],\n",
       "       [  21,   10,   51,   30,   49,   12,    3, 5684,  195,  210],\n",
       "       [  17,   63,   48,   86,    3,  126,   25,   10, 5429,   44],\n",
       "       [  25,   18,   30,   64,  118,   36,    1,  179,  371, 5107]])"
      ]
     },
     "execution_count": 82,
     "metadata": {},
     "output_type": "execute_result"
    }
   ],
   "source": [
    "#To identify the types of errors a (multi)classification model makes, need to look at the confusion matrix\n",
    "\n",
    "y_train_pred = cross_val_predict(sgd_clf, X_train_scaled, y_train, cv=3)\n",
    "conf_mx = confusion_matrix(y_train, y_train_pred)\n",
    "conf_mx"
   ]
  },
  {
   "cell_type": "code",
   "execution_count": 83,
   "metadata": {
    "ExecuteTime": {
     "end_time": "2020-07-27T21:48:16.090635Z",
     "start_time": "2020-07-27T21:48:16.032652Z"
    }
   },
   "outputs": [
    {
     "data": {
      "image/png": "[encoded data removed]",
      "text/plain": [
       "<Figure size 288x288 with 1 Axes>"
      ]
     },
     "metadata": {
      "needs_background": "light"
     },
     "output_type": "display_data"
    }
   ],
   "source": [
    "#Generally better to look at a pictoral representation of the confusion matrix. Most images are on the main diagonal, \n",
    "#so they were classified correctly. The 5s are slightly darker, either meaning fewer 5s in the dataset or that the \n",
    "#classifier does not perform as well on 5s as other digits (here, both are the case).\n",
    "plt.matshow(conf_mx, cmap=plt.cm.gray)\n",
    "plt.show()"
   ]
  },
  {
   "cell_type": "code",
   "execution_count": 84,
   "metadata": {
    "ExecuteTime": {
     "end_time": "2020-07-27T21:48:16.188578Z",
     "start_time": "2020-07-27T21:48:16.134126Z"
    }
   },
   "outputs": [
    {
     "data": {
      "image/png": "[encoded data removed]",
      "text/plain": [
       "<Figure size 288x288 with 1 Axes>"
      ]
     },
     "metadata": {
      "needs_background": "light"
     },
     "output_type": "display_data"
    }
   ],
   "source": [
    "#To focus the plot on the errors, need to divide each value by the number of images in the corresponding class \n",
    "#to compare error rates instead of absolute errors (which make abundant classes look unfairly bad). \n",
    "\n",
    "row_sums = conf_mx.sum(axis=1, keepdims=True) #axis=1 so that we get the sum of each row (it 'gets rid of' the columns)\n",
    "norm_conf_mx = conf_mx / row_sums\n",
    "\n",
    "np.fill_diagonal(norm_conf_mx, 0)\n",
    "plt.matshow(norm_conf_mx, cmap=plt.cm.gray)\n",
    "plt.show()"
   ]
  },
  {
   "cell_type": "code",
   "execution_count": 85,
   "metadata": {
    "ExecuteTime": {
     "end_time": "2020-07-27T21:49:06.281696Z",
     "start_time": "2020-07-27T21:49:06.280121Z"
    }
   },
   "outputs": [],
   "source": [
    "#You can clearly see the kinds of errors the classifier makes. Remember that rows represent\n",
    "#actual classes, while columns represent predicted classes. The column for class\n",
    "#8 is quite bright, which tells you that many images get misclassified as 8s. However,\n",
    "#the row for class 8 is not that bad, telling you that actual 8s in general get properly\n",
    "#classified as 8s. As you can see, the confusion matrix is not necessarily symmetrical.\n",
    "#You can also see that 3s and 5s often get confused (in both directions).\n",
    "#Analyzing the confusion matrix often gives you insights into ways to improve your\n",
    "#classifier. Looking at this plot, it seems that your efforts should be spent on reducing\n",
    "#the false 8s. For example, you could try to gather more training data for digits that\n",
    "#look like 8s (but are not) so that the classifier can learn to distinguish them from real\n",
    "#8s. Or you could engineer new features that would help the classifier—for example,\n",
    "#writing an algorithm to count the number of closed loops (e.g., 8 has two, 6 has one, 5\n",
    "#has none). Or you could preprocess the images (e.g., using Scikit-Image, Pillow, or\n",
    "#OpenCV) to make some patterns, such as closed loops, stand out more."
   ]
  },
  {
   "cell_type": "code",
   "execution_count": 87,
   "metadata": {
    "ExecuteTime": {
     "end_time": "2020-07-28T18:49:56.444922Z",
     "start_time": "2020-07-28T18:49:41.008139Z"
    }
   },
   "outputs": [
    {
     "data": {
      "text/plain": [
       "KNeighborsClassifier(algorithm='auto', leaf_size=30, metric='minkowski',\n",
       "                     metric_params=None, n_jobs=None, n_neighbors=5, p=2,\n",
       "                     weights='uniform')"
      ]
     },
     "execution_count": 87,
     "metadata": {},
     "output_type": "execute_result"
    }
   ],
   "source": [
    "#Multilabel classification - not all classifiers support it, but KNN does\n",
    "\n",
    "from sklearn.neighbors import KNeighborsClassifier\n",
    "\n",
    "y_train_large = (y_train >= 7)\n",
    "y_train_odd = (y_train%2 == 1)\n",
    "y_multilabel= np.c_[y_train_large, y_train_odd]\n",
    "\n",
    "knn_clf = KNeighborsClassifier()\n",
    "knn_clf.fit(X_train, y_multilabel)"
   ]
  },
  {
   "cell_type": "code",
   "execution_count": 88,
   "metadata": {
    "ExecuteTime": {
     "end_time": "2020-07-28T18:50:05.797370Z",
     "start_time": "2020-07-28T18:50:05.794885Z"
    }
   },
   "outputs": [
    {
     "data": {
      "text/plain": [
       "array([[False,  True],\n",
       "       [False, False],\n",
       "       [False, False],\n",
       "       ...,\n",
       "       [False,  True],\n",
       "       [False, False],\n",
       "       [ True, False]])"
      ]
     },
     "execution_count": 88,
     "metadata": {},
     "output_type": "execute_result"
    }
   ],
   "source": [
    "y_multilabel"
   ]
  },
  {
   "cell_type": "code",
   "execution_count": 89,
   "metadata": {
    "ExecuteTime": {
     "end_time": "2020-07-28T18:50:59.696272Z",
     "start_time": "2020-07-28T18:50:59.646647Z"
    }
   },
   "outputs": [
    {
     "data": {
      "text/plain": [
       "array([[False,  True]])"
      ]
     },
     "execution_count": 89,
     "metadata": {},
     "output_type": "execute_result"
    }
   ],
   "source": [
    "knn_clf.predict([some_digit]) #correct, 5 is not large and is odd."
   ]
  },
  {
   "cell_type": "code",
   "execution_count": 98,
   "metadata": {
    "ExecuteTime": {
     "end_time": "2020-07-28T19:52:46.525339Z",
     "start_time": "2020-07-28T19:18:08.751566Z"
    }
   },
   "outputs": [
    {
     "data": {
      "text/plain": [
       "0.976410265560605"
      ]
     },
     "execution_count": 98,
     "metadata": {},
     "output_type": "execute_result"
    }
   ],
   "source": [
    "#To measure performance of the classifier, we can measure the F1 score for each label (or any binary classifier metric),\n",
    "#then compute the average. In general the approach depends on the project. The below code assumes all labels are equally\n",
    "#important; however, if you have more pictures of person A than B or C, you may want to give more weight to the classifiers\n",
    "#score on pictures of A. Can do this by specifying average='weighted', which gives each label a weight equal to its\n",
    "#support (i.e. the number of instances with that target label).\n",
    "\n",
    "y_train_knn_pred = cross_val_predict(knn_clf, X_train, y_multilabel, cv=3)\n",
    "f1_score(y_multilabel, y_train_knn_pred, average='macro')"
   ]
  },
  {
   "cell_type": "code",
   "execution_count": 92,
   "metadata": {
    "ExecuteTime": {
     "end_time": "2020-07-28T19:16:43.508549Z",
     "start_time": "2020-07-28T19:16:33.592341Z"
    }
   },
   "outputs": [
    {
     "data": {
      "text/plain": [
       "KNeighborsClassifier(algorithm='auto', leaf_size=30, metric='minkowski',\n",
       "                     metric_params=None, n_jobs=None, n_neighbors=5, p=2,\n",
       "                     weights='uniform')"
      ]
     },
     "execution_count": 92,
     "metadata": {},
     "output_type": "execute_result"
    }
   ],
   "source": [
    "#Multioutput classification - a generalization of multilabel where each label can be multiclass (have more than 2 values).\n",
    "#An example is an image denoiser - takes noisy digit image as input and outputs clean digit image, represented by an \n",
    "#array of pixel intensities; hence, we have a multilabel (one label per pixel) problem where each label can have many\n",
    "#possible values (pixel intensity ranges from 0 to 255).\n",
    "\n",
    "#create training and test sets\n",
    "noise = np.random.randint(0, 100, (len(X_train), 784)) #one for each instance, for every pixel (each image is a row vector)\n",
    "X_train_mod = X_train + noise\n",
    "noise = np.random.randint(0, 100, (len(X_test), 784))\n",
    "X_test_mod = X_test + noise\n",
    "y_train_mod = X_train\n",
    "y_test_mod = X_test\n",
    "                          \n",
    "                          \n",
    "knn_clf.fit(X_train_mod, y_train_mod)"
   ]
  },
  {
   "cell_type": "code",
   "execution_count": 94,
   "metadata": {
    "ExecuteTime": {
     "end_time": "2020-07-28T19:17:03.742385Z",
     "start_time": "2020-07-28T19:17:03.695784Z"
    }
   },
   "outputs": [
    {
     "data": {
      "image/png": "[encoded data removed]",
      "text/plain": [
       "<Figure size 432x288 with 1 Axes>"
      ]
     },
     "metadata": {
      "needs_background": "light"
     },
     "output_type": "display_data"
    }
   ],
   "source": [
    "some_index=0\n",
    "noisy_digit_image = X_test_mod[some_index].reshape(28, 28)\n",
    "target_digit_image = y_test_mod[some_index].reshape(28, 28)\n",
    "\n",
    "plt.imshow(noisy_digit_image, cmap='binary')\n",
    "plt.axis('off')\n",
    "plt.show()"
   ]
  },
  {
   "cell_type": "code",
   "execution_count": 95,
   "metadata": {
    "ExecuteTime": {
     "end_time": "2020-07-28T19:17:04.547168Z",
     "start_time": "2020-07-28T19:17:04.519321Z"
    }
   },
   "outputs": [
    {
     "data": {
      "image/png": "[encoded data removed]",
      "text/plain": [
       "<Figure size 432x288 with 1 Axes>"
      ]
     },
     "metadata": {
      "needs_background": "light"
     },
     "output_type": "display_data"
    }
   ],
   "source": [
    "plt.imshow(target_digit_image, cmap='binary')\n",
    "plt.axis('off')\n",
    "plt.show()"
   ]
  },
  {
   "cell_type": "code",
   "execution_count": 97,
   "metadata": {
    "ExecuteTime": {
     "end_time": "2020-07-28T19:17:53.766267Z",
     "start_time": "2020-07-28T19:17:53.631010Z"
    }
   },
   "outputs": [
    {
     "data": {
      "image/png": "[encoded data removed]",
      "text/plain": [
       "<Figure size 432x288 with 1 Axes>"
      ]
     },
     "metadata": {
      "needs_background": "light"
     },
     "output_type": "display_data"
    }
   ],
   "source": [
    "clean_digit = knn_clf.predict([X_test_mod[some_index]])\n",
    "clean_digit_image = clean_digit.reshape(28, 28)\n",
    "\n",
    "plt.imshow(clean_digit_image, cmap='binary')\n",
    "plt.axis('off')\n",
    "plt.show()"
   ]
  },
  {
   "cell_type": "code",
   "execution_count": null,
   "metadata": {},
   "outputs": [],
   "source": []
  }
 ],
 "metadata": {
  "kernelspec": {
   "display_name": "Python 3",
   "language": "python",
   "name": "python3"
  },
  "language_info": {
   "codemirror_mode": {
    "name": "ipython",
    "version": 3
   },
   "file_extension": ".py",
   "mimetype": "text/x-python",
   "name": "python",
   "nbconvert_exporter": "python",
   "pygments_lexer": "ipython3",
   "version": "3.7.4"
  },
  "toc": {
   "base_numbering": 1,
   "nav_menu": {},
   "number_sections": true,
   "sideBar": true,
   "skip_h1_title": false,
   "title_cell": "Table of Contents",
   "title_sidebar": "Contents",
   "toc_cell": false,
   "toc_position": {},
   "toc_section_display": true,
   "toc_window_display": false
  },
  "varInspector": {
   "cols": {
    "lenName": 16,
    "lenType": 16,
    "lenVar": 40
   },
   "kernels_config": {
    "python": {
     "delete_cmd_postfix": "",
     "delete_cmd_prefix": "del ",
     "library": "var_list.py",
     "varRefreshCmd": "print(var_dic_list())"
    },
    "r": {
     "delete_cmd_postfix": ") ",
     "delete_cmd_prefix": "rm(",
     "library": "var_list.r",
     "varRefreshCmd": "cat(var_dic_list()) "
    }
   },
   "types_to_exclude": [
    "module",
    "function",
    "builtin_function_or_method",
    "instance",
    "_Feature"
   ],
   "window_display": false
  }
 },
 "nbformat": 4,
 "nbformat_minor": 4
}
