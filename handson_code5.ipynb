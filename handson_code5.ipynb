{
 "cells": [
  {
   "cell_type": "code",
   "execution_count": 1,
   "metadata": {
    "ExecuteTime": {
     "end_time": "2020-07-31T20:33:54.013093Z",
     "start_time": "2020-07-31T20:33:53.962705Z"
    }
   },
   "outputs": [
    {
     "data": {
      "text/plain": [
       "Pipeline(memory=None,\n",
       "         steps=[('scaler',\n",
       "                 StandardScaler(copy=True, with_mean=True, with_std=True)),\n",
       "                ('linear_svc',\n",
       "                 LinearSVC(C=1, class_weight=None, dual=True,\n",
       "                           fit_intercept=True, intercept_scaling=1,\n",
       "                           loss='hinge', max_iter=1000, multi_class='ovr',\n",
       "                           penalty='l2', random_state=None, tol=0.0001,\n",
       "                           verbose=0))],\n",
       "         verbose=False)"
      ]
     },
     "execution_count": 1,
     "metadata": {},
     "output_type": "execute_result"
    }
   ],
   "source": [
    "#Support Vector Machines (SVMs) are capable of linear/non-linear classification, regression and even outlier detection - \n",
    "#they are particulary well suited for classification of complex small to medium-sized datasets.\n",
    "#The output of a SVM classifier is a fit which has as large a margin as possible between the two classes - it not only \n",
    "#separates the classes but also stays as far away from the closest training instances as possible. The boundary line is \n",
    "#supported by the support vectors (SVs) - in linear SVM, they are the closest instances to the boundary in parameter space.\n",
    "#Adding training instances outside of the margin does not affect the model's predictions.\n",
    "#N.B. SVMs are sensitive to the feature scales: if one feature is much larger in scale than another, the line will be\n",
    "#close to horizontal and could have different SVs to the properly-scaled scenario. Again, this scaling is done in sklearn\n",
    "#using StandardScaler.\n",
    "\n",
    "#Hard margin classification is where we strictly impose that all instances must be 'off the street' and on the correct side\n",
    "#of the line/correctly classified (off the street meaning no instances located between the two margins).\n",
    "#Issue (1): hard classification only works with linearly separable data, and (2) it is sensitive to outliers - an outlier \n",
    "#could be nestled in the opposite bunch, making the data not linearly separable, or an outlier could simply be much closer\n",
    "#to the instances of the other class, dramatically effecting the location of the boundary.\n",
    "\n",
    "#Soft margin classification is more flexible - the objective is to find a good balance between keeping the margin as large\n",
    "#as possible and limiting the margin violations (correctly classified instances between the margins or those on the wrong\n",
    "#side). The hyperparameter C controls the strictness of the soft margin classifier - a low value (like C=1) is very soft \n",
    "#and allows for many violations, while a large value (like C=100), is much more strict. Margin violations are bad and\n",
    "#it is obviously better to have fewer of them; however, depending on the situation the softer model with more margin \n",
    "#violations can generalize better.\n",
    "#N.B. In the case of SVM overfitiing, reducing C can act as regularization.\n",
    "\n",
    "#Load iris dataset, scale features, train linear SVM:\n",
    "import numpy as np\n",
    "from sklearn import datasets\n",
    "from sklearn.pipeline import Pipeline\n",
    "from sklearn.preprocessing import StandardScaler\n",
    "from sklearn.svm import LinearSVC\n",
    "\n",
    "iris = datasets.load_iris()\n",
    "X = iris['data'][:, (2, 3)] #petal length, petal width\n",
    "y = (iris['target'] == 2).astype(np.float64) #Iris virginica target via boolean filter\n",
    "\n",
    "svm_clf = Pipeline([\n",
    "    ('scaler', StandardScaler()),\n",
    "    ('linear_svc', LinearSVC(C=1, loss='hinge'))\n",
    "])\n",
    "\n",
    "svm_clf.fit(X, y)"
   ]
  },
  {
   "cell_type": "code",
   "execution_count": 2,
   "metadata": {
    "ExecuteTime": {
     "end_time": "2020-07-31T20:34:08.847651Z",
     "start_time": "2020-07-31T20:34:08.841528Z"
    }
   },
   "outputs": [
    {
     "data": {
      "text/plain": [
       "array([1.])"
      ]
     },
     "execution_count": 2,
     "metadata": {},
     "output_type": "execute_result"
    }
   ],
   "source": [
    "svm_clf.predict([[5.5, 1.7]]) #Unlike Logistic Regression classifiers, SVM classifiers do not output the p for each class"
   ]
  },
  {
   "cell_type": "code",
   "execution_count": 3,
   "metadata": {
    "ExecuteTime": {
     "end_time": "2020-07-31T20:41:17.473876Z",
     "start_time": "2020-07-31T20:41:17.472362Z"
    }
   },
   "outputs": [],
   "source": [
    "#N.B alternatives to the above LinearSVC class are: (1) SVC(kernel='linear', C=1), but LinearSVC is much faster than \n",
    "#SVC(kernel='linear'), (2) applying stochastic gradient descent to a linear SVM classifier SGDClassifier(loss='hinge', \n",
    "#alpha=1/(m*C)). SGDClassifier does not converge as fast as LinearSVC but can be useful for online classification tasks \n",
    "#or huge datasets that do not fit in memory (out-of-core). Also (1) LinearSVC regularizes the bias term, so the training \n",
    "#set needs to first be centered by subtracting the mean (handled by scaling with StandardScaler). (2) The loss \n",
    "#hyperparameter must be 'hinge', as this is not the default. (3) For better performance, set the dual hyperparameter to \n",
    "#False, unless there are more features than training instances."
   ]
  },
  {
   "cell_type": "code",
   "execution_count": 7,
   "metadata": {
    "ExecuteTime": {
     "end_time": "2020-07-31T20:52:37.644112Z",
     "start_time": "2020-07-31T20:52:37.636303Z"
    }
   },
   "outputs": [
    {
     "data": {
      "text/plain": [
       "Pipeline(memory=None,\n",
       "         steps=[('poly_features',\n",
       "                 PolynomialFeatures(degree=3, include_bias=True,\n",
       "                                    interaction_only=False, order='C')),\n",
       "                ('scaler',\n",
       "                 StandardScaler(copy=True, with_mean=True, with_std=True)),\n",
       "                ('svm_clf',\n",
       "                 SVC(C=10, break_ties=False, cache_size=200, class_weight=None,\n",
       "                     coef0=0.0, decision_function_shape='ovr', degree=3,\n",
       "                     gamma='scale', kernel='linear', max_iter=-1,\n",
       "                     probability=False, random_state=None, shrinking=True,\n",
       "                     tol=0.001, verbose=False))],\n",
       "         verbose=False)"
      ]
     },
     "execution_count": 7,
     "metadata": {},
     "output_type": "execute_result"
    }
   ],
   "source": [
    "#Nonlinear SVM classification is useful when the data is non linearly separable (which is often the case). \n",
    "#As in the previous chapter, this problem can be approached by adding more features (such as polynomial features), which\n",
    "#can create a linearly separable dataset.\n",
    "\n",
    "#Load means dataset (the datapoints are two interleaving half circles)\n",
    "from sklearn.svm import SVC\n",
    "from sklearn.datasets import make_moons\n",
    "from sklearn.pipeline import Pipeline\n",
    "from sklearn.preprocessing import PolynomialFeatures\n",
    "\n",
    "X, y = make_moons(n_samples=100, noise=0.2)\n",
    "polynomial_svm_clf = Pipeline([\n",
    "    ('poly_features', PolynomialFeatures(degree=3)),\n",
    "    ('scaler', StandardScaler()),\n",
    "    ('svm_clf', SVC(kernel='linear', C=10))\n",
    "])\n",
    "polynomial_svm_clf.fit(X, y)"
   ]
  },
  {
   "cell_type": "code",
   "execution_count": 8,
   "metadata": {
    "ExecuteTime": {
     "end_time": "2020-07-31T20:52:38.453800Z",
     "start_time": "2020-07-31T20:52:38.448754Z"
    }
   },
   "outputs": [
    {
     "data": {
      "text/plain": [
       "Pipeline(memory=None,\n",
       "         steps=[('scaler',\n",
       "                 StandardScaler(copy=True, with_mean=True, with_std=True)),\n",
       "                ('svm_clf',\n",
       "                 SVC(C=5, break_ties=False, cache_size=200, class_weight=None,\n",
       "                     coef0=1, decision_function_shape='ovr', degree=3,\n",
       "                     gamma='scale', kernel='poly', max_iter=-1,\n",
       "                     probability=False, random_state=None, shrinking=True,\n",
       "                     tol=0.001, verbose=False))],\n",
       "         verbose=False)"
      ]
     },
     "execution_count": 8,
     "metadata": {},
     "output_type": "execute_result"
    }
   ],
   "source": [
    "#Creating polynomial features is simple and works well for many ML algorithms; however, for low degrees this method cannot \n",
    "#deal with very complex datasets, while for high degrees it creates a huge number of features, making the model slow.\n",
    "#Instead, with SVMs we can apply the kernel trick - this makes it possible to get the same result as having many polynomial\n",
    "#features, even with high-degree polynomials, without actually having to add them, so no combinatorial explosion of the \n",
    "#number of features (since they are not really added). If the subsequent model underfits, increase the degree. If it is \n",
    "#overfitting, decrease the degree. The coef0 hyperparameter controls how much the model is influenced by high-degree\n",
    "#polynomials versus low-degree. Grid search should be used for hyperparameter tuning - start coarse and get finer. It is\n",
    "#useful to have a good sense of what each hyperparameter does so you can search in the right part of hyperparameter space.\n",
    "\n",
    "poly_kernel_svm_clf = Pipeline([\n",
    "    ('scaler', StandardScaler()),\n",
    "    ('svm_clf', SVC(kernel='poly', degree=3, coef0=1, C=5))\n",
    "])\n",
    "poly_kernel_svm_clf.fit(X, y)"
   ]
  },
  {
   "cell_type": "code",
   "execution_count": 12,
   "metadata": {
    "ExecuteTime": {
     "end_time": "2020-07-31T21:06:49.787054Z",
     "start_time": "2020-07-31T21:06:49.781743Z"
    }
   },
   "outputs": [
    {
     "data": {
      "text/plain": [
       "Pipeline(memory=None,\n",
       "         steps=[('scaler',\n",
       "                 StandardScaler(copy=True, with_mean=True, with_std=True)),\n",
       "                ('svm_clf',\n",
       "                 SVC(C=0.001, break_ties=False, cache_size=200,\n",
       "                     class_weight=None, coef0=0.0,\n",
       "                     decision_function_shape='ovr', degree=3, gamma=5,\n",
       "                     kernel='rbf', max_iter=-1, probability=False,\n",
       "                     random_state=None, shrinking=True, tol=0.001,\n",
       "                     verbose=False))],\n",
       "         verbose=False)"
      ]
     },
     "execution_count": 12,
     "metadata": {},
     "output_type": "execute_result"
    }
   ],
   "source": [
    "#A third technique for nonlinear problems is to use features computed with a similarity function, which measures how much\n",
    "#each instance resembles a particular landmark. This is generally done using the Gaussian RBF as a similarity function,\n",
    "#which creates a feature for an instance based on the distance to each landmark. A simple approach to landmark selection is\n",
    "#to have one at the location of every instance of the dataset, however doing so transforms the training set with m \n",
    "#instances and n features to one with m instances and m features (dropping the original features) - so a large dataset means\n",
    "#an equally large number of features.\n",
    "#This can obviously be applied to any ML algorithm like the polynomial features method, but may be computiationally \n",
    "#expensive to compute all the additional features for a large dataset. Nonetheless, SVMs can take advantage of the kernel\n",
    "#trick which gives a similar result to if you had added many similarity features.\n",
    "#N.B. larger gamma makes the Gaussian narrower (as it is inverse of the variance), so each landmarks range of influence\n",
    "#is smaller and the decision boundary is more irregular, wiggling around individual instances. Larger gamma gives a larger\n",
    "#range of influence and the decision boundary is smoother. Hence, gamma acts like a regularization hyperparameter - if the\n",
    "#model is overfitting, reduce it and vice versa (similar to the C hyperparameter).\n",
    "\n",
    "rbf_kernel_svm_clf = Pipeline([\n",
    "    ('scaler', StandardScaler()),\n",
    "    ('svm_clf', SVC(kernel='rbf', gamma=5, C=0.001))\n",
    "])\n",
    "rbf_kernel_svm_clf.fit(X, y)"
   ]
  },
  {
   "cell_type": "code",
   "execution_count": 13,
   "metadata": {
    "ExecuteTime": {
     "end_time": "2020-07-31T21:17:05.683261Z",
     "start_time": "2020-07-31T21:17:05.681727Z"
    }
   },
   "outputs": [],
   "source": [
    "#Other kernels exist but are used much more rarely. Some kernels are specialized for specific data structures. \n",
    "#String kernels are sometimes used when classifying text documents or DNA sequences (e.g., using the string subsequence \n",
    "#kernel or kernels based on the Levenshtein distance). \n",
    "#As a rule of thumb, you should always try the linear kernel first (remember that LinearSVC is much faster than \n",
    "#SVC(kernel=\"linear\")), especially if the training set is very large or if it has plenty of features. If the training set \n",
    "#is not too large, you should also try the Gaussian RBF kernel; it works well in most cases. Then if you have spare time \n",
    "#and computing power, you can experiment with a few other kernels, using cross-validation and grid search. You’d want to \n",
    "#experiment like that especially if there are kernels specialized for your training set’s data structure."
   ]
  },
  {
   "cell_type": "code",
   "execution_count": 14,
   "metadata": {
    "ExecuteTime": {
     "end_time": "2020-07-31T21:23:21.661331Z",
     "start_time": "2020-07-31T21:23:21.659915Z"
    }
   },
   "outputs": [],
   "source": [
    "#N.B. (1) LinearSVC has linear time complexity O(mxn), with precision controlled by the tol hyperparameter (default is \n",
    "#usually fine). (2) SGDClassifier also has O(mxn) and supports out-of-core. Neither of these support the kernel trick.\n",
    "#(3) SVC has complexity O(m^2 x n) to O(m^3 x n) but does support the kernel trick. So SVC is very slow for large datasets\n",
    "#(100,000s) but perfect for complex small/medium training sets. It does scale well with the number of features, especially\n",
    "#with sparse features (where each instance has few nonzero features) - here it scales with the average number of nonzero\n",
    "#features per instance. Each of these classes require feature scaling beforehand."
   ]
  },
  {
   "cell_type": "code",
   "execution_count": 173,
   "metadata": {
    "ExecuteTime": {
     "end_time": "2020-07-31T23:01:47.155114Z",
     "start_time": "2020-07-31T23:01:47.072398Z"
    }
   },
   "outputs": [
    {
     "data": {
      "text/plain": [
       "[<matplotlib.lines.Line2D at 0x7fad65c4b090>]"
      ]
     },
     "execution_count": 173,
     "metadata": {},
     "output_type": "execute_result"
    },
    {
     "data": {
      "image/png": "[encoded data removed]",
      "text/plain": [
       "<Figure size 432x288 with 1 Axes>"
      ]
     },
     "metadata": {
      "needs_background": "light"
     },
     "output_type": "display_data"
    }
   ],
   "source": [
    "#SVM for regression is simply a reverse of the objective for classification: try to fit as many instances as possible\n",
    "#between the margins of the SVs for the two classes while limiting margin violations (instances outside of the margins).\n",
    "#The width of the margin is controlled by hyperparameter epsilon: larger epsilon means larger margin. As with SVM \n",
    "#classification, adding more training instances within the margin does not affect the model's predictions: thus, the model\n",
    "#is said to be epsilon-insensitive.\n",
    "\n",
    "from sklearn.svm import LinearSVR\n",
    "import matplotlib.pyplot as plt\n",
    "\n",
    "def find_support_vectors(svm_reg, X, y, eps):\n",
    "    y_pred = svm_reg.predict(X)\n",
    "    off_margin = (np.abs(y - y_pred) >= eps)\n",
    "    return np.argwhere(off_margin)\n",
    "\n",
    "np.random.seed(42)\n",
    "m = 50\n",
    "X = 2 * np.random.rand(m, 1)\n",
    "y = (4 + 3 * X + np.random.randn(m, 1)).ravel()\n",
    "\n",
    "svm_reg = Pipeline([\n",
    "    ('scaler', StandardScaler()),\n",
    "    ('svm_lin_reg', LinearSVR(epsilon=1.5))\n",
    "])\n",
    "\n",
    "svm_reg.fit(X, y)\n",
    "\n",
    "sv = find_support_vectors(svm_reg, X, y, svm_reg['svm_lin_reg'].epsilon)\n",
    "\n",
    "X_range = np.linspace(0, 2, 100).reshape(-1, 1)\n",
    "y_predict = svm_reg.predict(X_range)\n",
    "plt.plot(X, y, 'b.')\n",
    "plt.scatter(X[sv], y[sv], s=180, facecolors='#FFAAAA')\n",
    "plt.plot(X_range, y_predict, 'k')\n",
    "plt.plot(X_range, y_predict - svm_reg['svm_lin_reg'].epsilon, 'k--')\n",
    "plt.plot(X_range, y_predict + svm_reg['svm_lin_reg'].epsilon, 'k--')\n"
   ]
  },
  {
   "cell_type": "code",
   "execution_count": 202,
   "metadata": {
    "ExecuteTime": {
     "end_time": "2020-07-31T23:19:58.170405Z",
     "start_time": "2020-07-31T23:19:58.084450Z"
    }
   },
   "outputs": [
    {
     "data": {
      "text/plain": [
       "[<matplotlib.lines.Line2D at 0x7fad65826890>]"
      ]
     },
     "execution_count": 202,
     "metadata": {},
     "output_type": "execute_result"
    },
    {
     "data": {
      "image/png": "[encoded data removed]",
      "text/plain": [
       "<Figure size 432x288 with 1 Axes>"
      ]
     },
     "metadata": {
      "needs_background": "light"
     },
     "output_type": "display_data"
    }
   ],
   "source": [
    "#For nonlinear regression tasks, there is the SVR class (which like SVC supports the kernel trick).\n",
    "\n",
    "from sklearn.svm import SVR\n",
    "\n",
    "np.random.seed(42)\n",
    "m = 100\n",
    "X = 2 * np.random.rand(m, 1) - 1\n",
    "y = (0.2 + 0.1 * X + 0.5 * X**2 + np.random.randn(m, 1)/10).ravel()\n",
    "\n",
    "svm_reg = Pipeline([\n",
    "    ('scaler', StandardScaler()),\n",
    "    ('svm_poly_reg', SVR(kernel='poly', degree=2, C=100, epsilon=0.1))\n",
    "])\n",
    "svm_reg.fit(X, y)\n",
    "\n",
    "svm_reg.support_ = find_support_vectors(svm_reg, X, y, svm_reg['svm_poly_reg'].epsilon)\n",
    "\n",
    "X_range = np.linspace(-1, 1, 100).reshape(-1, 1)\n",
    "y_predict = svm_reg.predict(X_range)\n",
    "plt.plot(X, y, 'b.')\n",
    "plt.scatter(X[svm_reg.support_], y[svm_reg.support_], s=180, facecolors='#FFAAAA')\n",
    "plt.plot(X_range, y_predict, 'k')\n",
    "plt.plot(X_range, y_predict-.1, 'k--')\n",
    "plt.plot(X_range, y_predict+.1, 'k--')"
   ]
  },
  {
   "cell_type": "code",
   "execution_count": 200,
   "metadata": {
    "ExecuteTime": {
     "end_time": "2020-07-31T23:18:28.040174Z",
     "start_time": "2020-07-31T23:18:28.037616Z"
    }
   },
   "outputs": [],
   "source": [
    "#The SVR class is the regression equivalent of the SVC class, and the LinearSVR class is the regression equivalent of the\n",
    "#LinearSVC class. The LinearSVR class scales linearly with the size of the training set (just like the LinearSVC class), \n",
    "#while the SVR class gets much too slow when the training set grows large (just like the SVC class)."
   ]
  },
  {
   "cell_type": "code",
   "execution_count": 203,
   "metadata": {
    "ExecuteTime": {
     "end_time": "2020-08-01T00:35:25.004410Z",
     "start_time": "2020-08-01T00:35:25.002288Z"
    }
   },
   "outputs": [],
   "source": [
    "#SVM Theory:\n",
    "#The linear SVM classifier predicts the class of a new instance c by computing the decision function h = wTx + b. If the\n",
    "#result is postiive, the predicted class y_hat = 1 (positive class) and otherwise y_hat = 0 (negative class). The decision\n",
    "#function represents an n-dimensional hyperplane. The decision boundary is the set of points where h = wTx + b = 0, so it \n",
    "#is the intersection of the planes h = 0 and h = wTx + b. Hence the decision boundary is an (n-1) dimensional hyperplane.\n",
    "#The margin is where the decision function is equal to 1 or -1: they are parallel and at equal distnace to the boundary.\n",
    "#Training a linear SVM classifier means finding the values of the vector w and the bias b that make the margin as wide as \n",
    "#possible while avoiding margin violations (hard margin) or limiting them (soft margin).\n",
    "\n",
    "#The slope of the decision function is the norm of w: ||w||. Dividing the slope by 2 means the points where the decision \n",
    "#function (DF) is equal to +/- 1 will be twice as far from the decision boundary. So, since we want as large a margin as \n",
    "#possible, we want to minimize ||w||. For a hard margin, we need the DF > 1 for positive training instances and DF < -1 for\n",
    "#negative instances. So we constrain the minimization of (1/2)wTw to be subject to t^(i)*(wTx^(i) + b) >= 1 for i = 1 to m\n",
    "#where t^(i) equals -1 for negative instances and +1 for positive instances (using (1/2)wTw since it is differentiable\n",
    "#everywhere, unlike ||w|| - better for optimization algorithms).\n",
    "#The soft margin objective is acheived by introducing a slack variable zeta^(i) >= 0 which measures how much the ith \n",
    "#instance is allowed to violate the margin. We have two conflicting objectives: make zeta as small as possible to reduce\n",
    "#violations, while minimizing (1/2)wTw to increase the margin. The C hyperparameter is used to define the trade-off between\n",
    "#these two objectives, leaving us with minimize (1/2)wTw + CΣζ^(i) subject to t^(i)*(wTx^(i) + b)≥ 1−ζ^(i) and ζ^(i) ≥ 0 \n",
    "#for i = 1 to m.\n",
    "\n",
    "#The hard and soft margin cases are convex quadratic optimization problems with linear constraints - known as QP problems.\n",
    "#These are conventionally solved using quadratic programming algorithms. However, we can use the kernel trick  by looking\n",
    "#at a different constrained optimization problem.\n",
    "\n",
    "#Given a constrained optimization problem, known as the primal problem, it is possible to express it in a different but\n",
    "#closely related way, called its dual problem. The solution to the dual problem is typically a lower bound to the solution\n",
    "#of the primal problem, but under the conditions that (1) the objective function is convex, and (2) the inequality\n",
    "#constraints are continuously differentiable and convex functions, the solutions to the primal and its dual are identical \n",
    "#SVM meets these conditions so we can solve either problem and receive the same solution. In the SVM dual we minimize a \n",
    "#vector alpha which we can use to find the weight vector w and the bias. The dual is faster to solve than the primal when\n",
    "#the number of training instances m is smaller than the number of features n, and it makes the kernel trick possible, while\n",
    "#the primal does not. SEE LEARNING FROM DATA NOTES ON SVM/KERNEL APPROACH\n",
    "\n",
    "#With regards to online (incremental learning) SVMs, one method for implementing an online linear SVM classifier is to use\n",
    "#SGD (e.g. using SGDClassifier) to minimize the cost function derived from the primal SVM problem: \n",
    "#J(w, b) = (1/2)wTw + C*Σ*max[0, 1 − t^(i)(wTx^(i) + b)], summing from i = 1 to m. The first term of the cost function\n",
    "#pushes the model to have a small weight vector, leading to a larger margin, while the summation computes the total of\n",
    "#all margin violations - an instance's margin violation is 0 if it is located out of the margin bounds and on the correct\n",
    "#side, or else it is proportional to the distance to the correct side of the margin. Minimizing this term makes the \n",
    "#violations as small and as few as possible, given the hyperparameter C. \n",
    "#N.B. The function max(0, 1 - t) is called the hinge loss function - it is equal to 0 when t >= 1. Its derivative is equal\n",
    "#to -1 if t < 1 and 0 if t > 1. It is non-differentiable at t=1m but just like Lasso Regression, you can still use GD\n",
    "#using any subderivative at t=1 (i.e. the gradient can be between -1 and 0, google 'subderivative').\n",
    "#N.B that GD converges much more slowly than the methods based on QP. It is also possible to implement online kernelized\n",
    "#SVMs, typically done in C++ and Matlab - for large-scale nonlinear problems, neural networks may be a better option.\n"
   ]
  },
  {
   "cell_type": "code",
   "execution_count": null,
   "metadata": {},
   "outputs": [],
   "source": []
  }
 ],
 "metadata": {
  "kernelspec": {
   "display_name": "Python 3",
   "language": "python",
   "name": "python3"
  },
  "language_info": {
   "codemirror_mode": {
    "name": "ipython",
    "version": 3
   },
   "file_extension": ".py",
   "mimetype": "text/x-python",
   "name": "python",
   "nbconvert_exporter": "python",
   "pygments_lexer": "ipython3",
   "version": "3.7.4"
  },
  "toc": {
   "base_numbering": 1,
   "nav_menu": {},
   "number_sections": true,
   "sideBar": true,
   "skip_h1_title": false,
   "title_cell": "Table of Contents",
   "title_sidebar": "Contents",
   "toc_cell": false,
   "toc_position": {},
   "toc_section_display": true,
   "toc_window_display": false
  },
  "varInspector": {
   "cols": {
    "lenName": 16,
    "lenType": 16,
    "lenVar": 40
   },
   "kernels_config": {
    "python": {
     "delete_cmd_postfix": "",
     "delete_cmd_prefix": "del ",
     "library": "var_list.py",
     "varRefreshCmd": "print(var_dic_list())"
    },
    "r": {
     "delete_cmd_postfix": ") ",
     "delete_cmd_prefix": "rm(",
     "library": "var_list.r",
     "varRefreshCmd": "cat(var_dic_list()) "
    }
   },
   "types_to_exclude": [
    "module",
    "function",
    "builtin_function_or_method",
    "instance",
    "_Feature"
   ],
   "window_display": false
  }
 },
 "nbformat": 4,
 "nbformat_minor": 4
}
