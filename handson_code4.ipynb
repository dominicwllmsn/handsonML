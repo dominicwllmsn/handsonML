{
 "cells": [
  {
   "cell_type": "code",
   "execution_count": 28,
   "metadata": {
    "ExecuteTime": {
     "end_time": "2020-07-29T14:20:01.846996Z",
     "start_time": "2020-07-29T14:20:01.667216Z"
    }
   },
   "outputs": [
    {
     "data": {
      "image/png": "[encoded data removed]",
      "text/plain": [
       "<Figure size 432x288 with 1 Axes>"
      ]
     },
     "metadata": {
      "needs_background": "light"
     },
     "output_type": "display_data"
    }
   ],
   "source": [
    "#Testing the Normal Equation (which gives us the model parameters which minimise the MSE performance measure)\n",
    "%matplotlib inline\n",
    "import numpy as np\n",
    "import matplotlib.pyplot as plt\n",
    "\n",
    "#Generate linear-looking data\n",
    "np.random.seed(42)\n",
    "X = 2 * np.random.rand(100, 1)\n",
    "y = 4 + 3 * X + np.random.randn(100, 1) #Generate outputs with equation y = 4 + 3x + Gaussian noise\n",
    "\n",
    "plt.scatter(X, y, s=10, c='b')\n",
    "plt.xlabel('x1')\n",
    "plt.ylabel('y')\n",
    "plt.axis([0,2,0,15])\n",
    "plt.show()"
   ]
  },
  {
   "cell_type": "code",
   "execution_count": 21,
   "metadata": {
    "ExecuteTime": {
     "end_time": "2020-07-29T14:13:31.925330Z",
     "start_time": "2020-07-29T14:13:31.921319Z"
    }
   },
   "outputs": [
    {
     "data": {
      "text/plain": [
       "array([[4.21509616],\n",
       "       [2.77011339]])"
      ]
     },
     "execution_count": 21,
     "metadata": {},
     "output_type": "execute_result"
    }
   ],
   "source": [
    "X_b = np.c_[np.ones((100,1)), X] #add x0=1 onto each instance\n",
    "theta_best = np.linalg.inv(X_b.T.dot(X_b)).dot(X_b.T).dot(y)\n",
    "theta_best"
   ]
  },
  {
   "cell_type": "code",
   "execution_count": null,
   "metadata": {},
   "outputs": [],
   "source": [
    "#Can now make predictions using theta_best"
   ]
  },
  {
   "cell_type": "code",
   "execution_count": 25,
   "metadata": {
    "ExecuteTime": {
     "end_time": "2020-07-29T14:17:31.310725Z",
     "start_time": "2020-07-29T14:17:31.307618Z"
    }
   },
   "outputs": [
    {
     "data": {
      "text/plain": [
       "array([[4.21509616],\n",
       "       [9.75532293]])"
      ]
     },
     "execution_count": 25,
     "metadata": {},
     "output_type": "execute_result"
    }
   ],
   "source": [
    "X_new = np.array([[0], [2]])\n",
    "X_new_b = np.c_[np.ones((2,1)), X_new]\n",
    "y_predict = X_new_b.dot(theta_best)\n",
    "y_predict"
   ]
  },
  {
   "cell_type": "code",
   "execution_count": 27,
   "metadata": {
    "ExecuteTime": {
     "end_time": "2020-07-29T14:19:51.510351Z",
     "start_time": "2020-07-29T14:19:51.435400Z"
    }
   },
   "outputs": [
    {
     "data": {
      "image/png": "[encoded data removed]",
      "text/plain": [
       "<Figure size 432x288 with 1 Axes>"
      ]
     },
     "metadata": {
      "needs_background": "light"
     },
     "output_type": "display_data"
    }
   ],
   "source": [
    "plt.plot(X_new, y_predict, 'r-')\n",
    "plt.plot(X, y, 'b.')\n",
    "plt.xlabel('x1')\n",
    "plt.ylabel('y')\n",
    "plt.axis([0,2,0,15])\n",
    "plt.show()"
   ]
  },
  {
   "cell_type": "code",
   "execution_count": 29,
   "metadata": {
    "ExecuteTime": {
     "end_time": "2020-07-29T14:21:29.109053Z",
     "start_time": "2020-07-29T14:21:29.093962Z"
    }
   },
   "outputs": [
    {
     "data": {
      "text/plain": [
       "(array([4.21509616]), array([[2.77011339]]))"
      ]
     },
     "execution_count": 29,
     "metadata": {},
     "output_type": "execute_result"
    }
   ],
   "source": [
    "#Linear regression with sklearn\n",
    "from sklearn.linear_model import LinearRegression\n",
    "\n",
    "lin_reg = LinearRegression()\n",
    "lin_reg.fit(X, y)\n",
    "lin_reg.intercept_, lin_reg.coef_"
   ]
  },
  {
   "cell_type": "code",
   "execution_count": 30,
   "metadata": {
    "ExecuteTime": {
     "end_time": "2020-07-29T14:21:39.634624Z",
     "start_time": "2020-07-29T14:21:39.631295Z"
    }
   },
   "outputs": [
    {
     "data": {
      "text/plain": [
       "array([[4.21509616],\n",
       "       [9.75532293]])"
      ]
     },
     "execution_count": 30,
     "metadata": {},
     "output_type": "execute_result"
    }
   ],
   "source": [
    "lin_reg.predict(X_new)"
   ]
  },
  {
   "cell_type": "code",
   "execution_count": 32,
   "metadata": {
    "ExecuteTime": {
     "end_time": "2020-07-29T14:23:12.708995Z",
     "start_time": "2020-07-29T14:23:12.705890Z"
    }
   },
   "outputs": [
    {
     "data": {
      "text/plain": [
       "array([[4.21509616],\n",
       "       [2.77011339]])"
      ]
     },
     "execution_count": 32,
     "metadata": {},
     "output_type": "execute_result"
    }
   ],
   "source": [
    "#Equivalent to np.linalg.lstsq()\n",
    "theta_best_svd, residuals, rank, s = np.linalg.lstsq(X_b, y, rcond=1e-6)\n",
    "theta_best_svd"
   ]
  },
  {
   "cell_type": "code",
   "execution_count": 34,
   "metadata": {
    "ExecuteTime": {
     "end_time": "2020-07-29T14:28:09.910192Z",
     "start_time": "2020-07-29T14:28:09.907323Z"
    }
   },
   "outputs": [
    {
     "data": {
      "text/plain": [
       "array([[4.21509616],\n",
       "       [2.77011339]])"
      ]
     },
     "execution_count": 34,
     "metadata": {},
     "output_type": "execute_result"
    }
   ],
   "source": [
    "#Can find the pseudoinverse (Moore-Penrose inverse) directly. It is calculated using the matrix factorization technique\n",
    "#Singular Value Decomposition (SVD). SVD is more efficient than finding the Normal Equation, and it handles edge cases\n",
    "#nicely (i.e. the Normal Equation may not work if XTX is not invertible (singular), such as if m < n or if some features\n",
    "#are redundant, but the pseudoinverse is always defined. \n",
    "#In terms of computational complexity, inverting XTX (which is of size n+1 x n+1) is typically O(2^2.4) to O(2^3) while SVD used by LinearRegression() is about O(n^2) - note both\n",
    "#get very slow when the number of features is large (e.g. 100,000), meanwhile both are linear w.r.t. the number of training\n",
    "#instances, O(m), so they handle large training sets efficiently (if they can fit in memory). Once the Linear Regression \n",
    "#model is trained, evaluations are fast as it is linear w.r.t. both the number of instances and the number of features.\n",
    "\n",
    "np.linalg.pinv(X_b).dot(y)"
   ]
  },
  {
   "cell_type": "code",
   "execution_count": 35,
   "metadata": {
    "ExecuteTime": {
     "end_time": "2020-07-29T15:08:39.782148Z",
     "start_time": "2020-07-29T15:08:39.780104Z"
    }
   },
   "outputs": [],
   "source": [
    "#Gradient descent: measure the local gradient of the error function with regard to the parameter vector theta, and \n",
    "#change theta in the direction of this descending gradient (theta is initialized with random values). The learning step\n",
    "#size is proportional to the slope of the cost function, so the steps gradually decrease in size as the parameters \n",
    "#approach the minimum. The MSE cost function for a Linear Regression model happens to be a convex function, which means \n",
    "#that if you pick any two points on the curve, the line segment joining them never crosses the curve. This implies that \n",
    "#there are no local minima, just one global minimum. It is also a continuous function with a slope that never changes \n",
    "#abruptly, so GD is guaranteed to approach arbitrarily close to the global minimum (if the learning rate is not too high\n",
    "#and with enough iterations.\n",
    "#Interestingly, the cost function has the shape of a bowl, but this can be elongated if the features have very different\n",
    "#scales - if it is elongated, it takes longer to reach the minimum since it may have to go in orthogonal directions to the\n",
    "#optimal, depending on the local minimum. A perfect bowl shape means GD will go straight towards the minimum. This shows\n",
    "#the importance of feature scaling e.g. using sklearns StandardScaler, or it takes much longer to converge.\n",
    "#Further, since GD involves searching for a combination of model paramters in paramter space which minimizes the cost\n",
    "#function, a higher dimensional parameters space means the search is harder. Fortunately, since the MSE cost function is\n",
    "#convex in Linear Reegression, this has neglibible effect on GD in this simple case."
   ]
  },
  {
   "cell_type": "code",
   "execution_count": 38,
   "metadata": {
    "ExecuteTime": {
     "end_time": "2020-07-29T15:18:25.277400Z",
     "start_time": "2020-07-29T15:18:25.268990Z"
    }
   },
   "outputs": [
    {
     "data": {
      "text/plain": [
       "array([[4.21509616],\n",
       "       [2.77011339]])"
      ]
     },
     "execution_count": 38,
     "metadata": {},
     "output_type": "execute_result"
    }
   ],
   "source": [
    "#Batch (or Full) Gradient Descent - the formula for the gradient of the cost function (MSE) w.r.t. all model parameters\n",
    "#involves a matrix calculation over the full training set X, at each GD step. Hence, very slow for large training sets. \n",
    "#However, it scales well with the number of features - if there are 100,000s of features, a Linear Regression can be \n",
    "#trained much faster using GD over the Normal Equation or SVD. The key equation is theta(i+1) = theta(i) - eta*grad(MSE)\n",
    "\n",
    "#Quick implementation:\n",
    "\n",
    "eta = 0.1\n",
    "n_iterations = 1000\n",
    "m = 100\n",
    "\n",
    "theta = np.random.randn(2, 1) #random initialization\n",
    "\n",
    "for iteration in range(n_iterations):\n",
    "    gradients = 2/m * X_b.T.dot(X_b.dot(theta) - y)\n",
    "    theta = theta - eta*gradients\n",
    "\n",
    "theta #equivalent to solution from Normal Equation"
   ]
  },
  {
   "cell_type": "code",
   "execution_count": 39,
   "metadata": {
    "ExecuteTime": {
     "end_time": "2020-07-29T15:26:17.481450Z",
     "start_time": "2020-07-29T15:26:17.479721Z"
    }
   },
   "outputs": [],
   "source": [
    "#The learning rate is a crucial hyperparameter - too small and the algorithm takes a very long time to converge on the \n",
    "#solution, too high and the algorithm diverges, jumping all over the parameter space and potentially getting further from\n",
    "#the solution with every step. \n",
    "#To find a good eta, use grid search, but limit the number of iterations so grid search can eliminate models that take\n",
    "#too long to converge. To select the right number of iterations, a solution is to set a very large number and interrupt\n",
    "#the algorithm when the gradient vector becomes tiny (when its norm is less than some tolerance epsilon), since this\n",
    "#occurs when GD is close to the minimum.\n",
    "#With respect to the convergence rate: when the cost function is convex and its slope does not change abruptly (as is the\n",
    "#case for the MSE cost function), Batch Gradient Descent with a fixed learning rate will eventually converge to the \n",
    "#optimal solution, but you may have to wait a while: it can take O(1/ϵ) iterations to reach the optimum within a range \n",
    "#of ϵ, depending on the shape of the cost function. If you divide the tolerance by 10 to have a more precise\n",
    "#solution, then the algorithm may have to run about 10 times longer."
   ]
  },
  {
   "cell_type": "code",
   "execution_count": 70,
   "metadata": {
    "ExecuteTime": {
     "end_time": "2020-07-29T15:51:25.200461Z",
     "start_time": "2020-07-29T15:51:25.046391Z"
    }
   },
   "outputs": [
    {
     "data": {
      "image/png": "[encoded data removed]",
      "text/plain": [
       "<Figure size 432x288 with 1 Axes>"
      ]
     },
     "metadata": {
      "needs_background": "light"
     },
     "output_type": "display_data"
    },
    {
     "data": {
      "text/plain": [
       "array([[4.21076011],\n",
       "       [2.74856079]])"
      ]
     },
     "execution_count": 70,
     "metadata": {},
     "output_type": "execute_result"
    }
   ],
   "source": [
    "#Stochastic Gradient Descent - the algorithm picks a random instance in the training set at every step and computes the\n",
    "#gradients based on this single instance (opposed to BGD, which uses the entire X to compute gradients each step). Hence,\n",
    "#the algorithm is much faster as it has very ittle data to manipulate every iteration, also makes it possible to train\n",
    "#on huge datasets since only one instance has to be in memory at each iteration (so can be used as an out-of-core algo).\n",
    "#However, the stochastic nature menas the algorithm is less regular than BGD: instead of gently decreasing it only \n",
    "#decreases on average, generally bouncing up and down the cost function. It will get close to the optimal solution, but not\n",
    "#exactly. \n",
    "#This stochasticism is useful with very irregular cost functions, as the algorithm can jump out of local minima, so in \n",
    "#these cases (not Linear Regression) SGD has a better chance than BGD of reaching the global minimum.\n",
    "#A solution to the dilemma that it does not settle at the minimum is to gradually reduce the learning rate - steps are \n",
    "#large initially (so quick progress and escape local minima) but gradually becomes smaller, allowing it to settle at the\n",
    "#global minimum (similar to simulated annealing). The learning schedule determines the learning rate at each iteration.\n",
    "\n",
    "#SGD applied to linear regression:\n",
    "\n",
    "n_epochs = 50\n",
    "t0, t1 = 5, 50 # learning schedule hyperparameters\n",
    "\n",
    "def learning_schedule(t):\n",
    "    return t0 / (t + t1)\n",
    "\n",
    "np.random.seed(42)\n",
    "theta = np.random.randn(2,1) # random initialization\n",
    "\n",
    "X_new = np.array([[0], [2]])\n",
    "X_new_b = np.c_[np.ones((2,1)), X_new]\n",
    "y_predict = X_new_b.dot(theta)\n",
    "\n",
    "plt.plot(X, y, 'b.')\n",
    "plt.xlabel('x1')\n",
    "plt.ylabel('y')\n",
    "plt.axis([0,2,0,15])\n",
    "plt.plot(X_new, y_predict, 'r--')\n",
    "\n",
    "for epoch in range(n_epochs):\n",
    "    for i in range(m):\n",
    "        random_index = np.random.randint(m)\n",
    "        xi = X_b[random_index:random_index+1]\n",
    "        yi = y[random_index:random_index+1]\n",
    "        gradients = 2 * xi.T.dot(xi.dot(theta) - yi)\n",
    "        eta = learning_schedule(epoch * m + i)\n",
    "        theta = theta - eta * gradients\n",
    "        if epoch == 0 and i < 20:\n",
    "            X_new = np.array([[0], [2]])\n",
    "            X_new_b = np.c_[np.ones((2,1)), X_new]\n",
    "            y_predict = X_new_b.dot(theta)\n",
    "            plt.plot(X_new, y_predict, 'g-', alpha=0.02*i)\n",
    "\n",
    "plt.show()\n",
    "theta"
   ]
  },
  {
   "cell_type": "code",
   "execution_count": 69,
   "metadata": {
    "ExecuteTime": {
     "end_time": "2020-07-29T15:51:22.128914Z",
     "start_time": "2020-07-29T15:51:22.125608Z"
    }
   },
   "outputs": [
    {
     "data": {
      "text/plain": [
       "(array([1.        , 1.20223002]), array([[1.        , 1.20223002]]))"
      ]
     },
     "execution_count": 69,
     "metadata": {},
     "output_type": "execute_result"
    }
   ],
   "source": [
    "X_b[random_index], X_b[random_index:random_index+1]"
   ]
  },
  {
   "cell_type": "code",
   "execution_count": null,
   "metadata": {
    "ExecuteTime": {
     "end_time": "2020-07-29T15:41:42.780360Z",
     "start_time": "2020-07-29T15:41:42.778360Z"
    }
   },
   "outputs": [],
   "source": [
    "#Note that since instances are picked randomly, some instances may be picked several times per epoch, while others may \n",
    "#not be picked at all. If you want to be sure that the algorithm goes through every instance at each epoch, another \n",
    "#approach is to shuffle the training set (making sure to shuffle the input features and the labels jointly), then go \n",
    "#through it instance by instance, then shuffle it again, and so on. However, this approach generally converges more slowly.\n",
    "\n",
    "#Also note, when using Stochastic Gradient Descent, the training instances must be independent and identically distributed \n",
    "#(IID) to ensure that the parameters get pulled toward the global optimum, on average. A simple way to ensure this is to \n",
    "#shuffle the instances during training (e.g., pick each instance randomly, or shuffle the training set at the beginning of \n",
    "#each epoch). If you do not shuffle the instances—for example, if the instances are sorted by label—then SGD will start \n",
    "#by optimizing for one label, then the next, and so on, and it will not settle close to the global minimum."
   ]
  },
  {
   "cell_type": "code",
   "execution_count": 75,
   "metadata": {
    "ExecuteTime": {
     "end_time": "2020-07-29T15:58:12.138687Z",
     "start_time": "2020-07-29T15:58:12.135159Z"
    }
   },
   "outputs": [
    {
     "data": {
      "text/plain": [
       "(array([4.16405639]), array([2.74807964]))"
      ]
     },
     "execution_count": 75,
     "metadata": {},
     "output_type": "execute_result"
    }
   ],
   "source": [
    "#Using sklearn for a SGD Linear Regressor\n",
    "from sklearn.linear_model import SGDRegressor\n",
    "sgd_reg = SGDRegressor(max_iter=1000, tol=1e-3, penalty=None, eta0=0.1)\n",
    "sgd_reg.fit(X, y.ravel()) #y.ravel() converts y from a column vector to flattened 1D array, required for this function\n",
    "sgd_reg.intercept_, sgd_reg.coef_"
   ]
  },
  {
   "cell_type": "code",
   "execution_count": null,
   "metadata": {
    "ExecuteTime": {
     "end_time": "2020-07-29T15:57:17.064367Z",
     "start_time": "2020-07-29T15:57:17.060850Z"
    }
   },
   "outputs": [],
   "source": [
    "#Mini-batch Gradient Descent - at each step, instead of computing the gradients using all training instances (BGD) or \n",
    "#just one instance (SGD), MBGD computes the gradients on small random sets of instances (mini-batches). The big\n",
    "#advantage of mini-batch GD over SGD is that you can get a performance boost from (GPU) hardware optimization of matrix\n",
    "#operations. Especially with larger batches, the algorithms progress in parameter space is less erratic that SGD, so\n",
    "#MBGD it will likely get closer to the minimum compared to SGD but it may be harder for it to escape local minima (in the\n",
    "#case of problems that suffer from local minima, unlike linear regression). With a good learning schedule, MBGD and SGD can\n",
    "#can reach the optimal global minimum like BGD, while being more efficient than BGD per iteration (BGD is very slow)."
   ]
  },
  {
   "cell_type": "code",
   "execution_count": 77,
   "metadata": {
    "ExecuteTime": {
     "end_time": "2020-07-29T17:00:35.979457Z",
     "start_time": "2020-07-29T17:00:35.911582Z"
    }
   },
   "outputs": [
    {
     "data": {
      "image/png": "[encoded data removed]",
      "text/plain": [
       "<Figure size 432x288 with 1 Axes>"
      ]
     },
     "metadata": {
      "needs_background": "light"
     },
     "output_type": "display_data"
    }
   ],
   "source": [
    "#Polynomial Regression - to fit non-linear data, we add powers of each feature as new features, then train a linear model\n",
    "#on this extended set of features.\n",
    "\n",
    "#Generate some data based on a simple quadratic equation\n",
    "np.random.seed(42)\n",
    "m = 100\n",
    "X = 6 * np.random.rand(m, 1) - 3\n",
    "y = 0.5 * X**2 + X + 2 + np.random.randn(m, 1)\n",
    "\n",
    "plt.plot(X, y, 'b.')\n",
    "plt.axis([-3, 3, 0, 10])\n",
    "plt.xlabel('x1'); plt.ylabel('y')\n",
    "plt.show()"
   ]
  },
  {
   "cell_type": "code",
   "execution_count": 78,
   "metadata": {
    "ExecuteTime": {
     "end_time": "2020-07-29T17:01:52.020262Z",
     "start_time": "2020-07-29T17:01:52.016952Z"
    }
   },
   "outputs": [
    {
     "data": {
      "text/plain": [
       "(array([-0.75275929]), array([-0.75275929,  0.56664654]))"
      ]
     },
     "execution_count": 78,
     "metadata": {},
     "output_type": "execute_result"
    }
   ],
   "source": [
    "from sklearn.preprocessing import PolynomialFeatures\n",
    "\n",
    "poly_features = PolynomialFeatures(degree=2, include_bias=False)\n",
    "X_poly = poly_features.fit_transform(X)\n",
    "X[0], X_poly[0] #X_poly contains each feature, plus the square of the feature"
   ]
  },
  {
   "cell_type": "code",
   "execution_count": 79,
   "metadata": {
    "ExecuteTime": {
     "end_time": "2020-07-29T17:03:13.138459Z",
     "start_time": "2020-07-29T17:03:13.135077Z"
    }
   },
   "outputs": [
    {
     "data": {
      "text/plain": [
       "(array([1.78134581]), array([[0.93366893, 0.56456263]]))"
      ]
     },
     "execution_count": 79,
     "metadata": {},
     "output_type": "execute_result"
    }
   ],
   "source": [
    "lin_reg = LinearRegression()\n",
    "lin_reg.fit(X_poly, y)\n",
    "lin_reg.intercept_, lin_reg.coef_"
   ]
  },
  {
   "cell_type": "code",
   "execution_count": 103,
   "metadata": {
    "ExecuteTime": {
     "end_time": "2020-07-29T17:17:28.322331Z",
     "start_time": "2020-07-29T17:17:28.246116Z"
    }
   },
   "outputs": [
    {
     "data": {
      "image/png": "[encoded data removed]",
      "text/plain": [
       "<Figure size 432x288 with 1 Axes>"
      ]
     },
     "metadata": {
      "needs_background": "light"
     },
     "output_type": "display_data"
    }
   ],
   "source": [
    "#1\n",
    "x_range = list(zip(np.linspace(-3,3,50), np.linspace(-3,3,50)**2))\n",
    "y_predict = lin_reg.predict(x_range)\n",
    "plt.plot([x[0] for x in x_range], y_predict, 'r-', label='Predictions')\n",
    "\n",
    "#2\n",
    "#y_predict2 = lin_reg.coef_.dot(np.array([np.linspace(-3,3,50),np.linspace(-3,3,50)**2])) + lin_reg.intercept_\n",
    "#plt.plot(np.linspace(-3,3,50), y_predict2.ravel(), 'r-', label='Predictions')\n",
    "\n",
    "plt.plot(X, y, 'b.')\n",
    "plt.axis([-3, 3, 0, 10])\n",
    "plt.xlabel('x1'); plt.ylabel('y')\n",
    "plt.legend()\n",
    "plt.show()"
   ]
  },
  {
   "cell_type": "code",
   "execution_count": null,
   "metadata": {
    "ExecuteTime": {
     "end_time": "2020-07-29T17:14:09.820300Z",
     "start_time": "2020-07-29T17:14:09.817588Z"
    }
   },
   "outputs": [],
   "source": [
    "#Note that when there are multiple features, Polynomial Regression is capable of finding relationships between features \n",
    "#(which is something a plain Linear Regression model cannot do). This is made possible by the fact that PolynomialFeatures\n",
    "#also adds all combinations of features up to the given degree. For example, if there were two features a and b, \n",
    "#PolynomialFeatures with degree=3 would not only add the features a2, a3, b2, and b3, but also the combinations \n",
    "#ab, a2b, and ab2.\n",
    "#PolynomialFeatures(degree=d) transforms from n features to (n+d)! / d!n! features, so beware of combinatorial explosion\n",
    "#of the number of features (also, overfitting etc., see next section)"
   ]
  },
  {
   "cell_type": "code",
   "execution_count": 115,
   "metadata": {
    "ExecuteTime": {
     "end_time": "2020-07-29T17:36:25.463373Z",
     "start_time": "2020-07-29T17:36:25.459102Z"
    }
   },
   "outputs": [],
   "source": [
    "#It is easy to see a 300 degree polynomial will fit the training data better, severely overfitting it, while a linear\n",
    "#model will underfit it. A quadratic model will obviously generalize best out-of-sample, but in general we will not know \n",
    "#that this was how the data was generated. How do we decide how complex the model should be and if it is over/underfitting?\n",
    "#Cross-validation can be used to check generalization performance: good performance on the training data and poor \n",
    "#generalization indicates overfitting, while poor performance in both scenarios suggests underfitting - allowing us to\n",
    "#determine if a model is too simple or too complex.\n",
    "#Another way it to look at learning curves: plots of the models performance on the training set and validation set as\n",
    "#a function of the training set size (or the training iteration). To generate these, train the model several times on \n",
    "#different subsets of the training set.\n",
    "\n",
    "from sklearn.metrics import mean_squared_error\n",
    "from sklearn.model_selection import train_test_split\n",
    "\n",
    "#a function that, given some training data, plots the learning curves of the model\n",
    "def plot_learning_curves(model, X, y):\n",
    "    X_train, X_val, y_train, y_val = train_test_split(X, y, test_size=0.2)\n",
    "    train_errors, val_errors = [], []\n",
    "    for m in range(1, len(X_train)):\n",
    "        model.fit(X_train[:m], y_train[:m])\n",
    "        y_train_predict = model.predict(X_train[:m])\n",
    "        y_val_predict = model.predict(X_val)\n",
    "        train_errors.append(mean_squared_error(y_train[:m], y_train_predict))\n",
    "        val_errors.append(mean_squared_error(y_val, y_val_predict))\n",
    "    plt.plot(np.sqrt(train_errors), 'r-+', linewidth=2, label='train')\n",
    "    plt.plot(np.sqrt(val_errors), 'b-', linewidth=3, label='val')\n",
    "    plt.ylabel('RMSE')\n",
    "    plt.xlabel('Training set size')\n",
    "    plt.legend()"
   ]
  },
  {
   "cell_type": "code",
   "execution_count": 128,
   "metadata": {
    "ExecuteTime": {
     "end_time": "2020-07-29T17:47:04.941700Z",
     "start_time": "2020-07-29T17:47:04.810261Z"
    }
   },
   "outputs": [
    {
     "data": {
      "image/png": "[encoded data removed]",
      "text/plain": [
       "<Figure size 432x288 with 1 Axes>"
      ]
     },
     "metadata": {
      "needs_background": "light"
     },
     "output_type": "display_data"
    }
   ],
   "source": [
    "#This model that’s underfitting deserves a bit of explanation. First, let’s look at the performance on the training data: \n",
    "#when there are just one or two instances in the training set, the model can fit them perfectly, which is why the curve \n",
    "#starts at zero. But as new instances are added to the training set, it becomes impossible for the model to fit\n",
    "#the training data perfectly, both because the data is noisy and because it is not linear at all. So the error on the\n",
    "#training data goes up until it reaches a plateau, at which point adding new instances to the training set doesn’t make \n",
    "#the average error much better or worse. Now let’s look at the performance of the model on the validation data. When the \n",
    "#model is trained on very few training instances, it is incapable of generalizing properly, which is why the validation \n",
    "#error is initially quite big. Then, as the model is shown more training examples, it learns, and thus the validation error\n",
    "#slowly goes down. However, once again a straight line cannot do a good job modeling the data, so the error ends up at \n",
    "#a plateau, very close to the other curve. These learning curves are typical of a model that’s underfitting. Both curves \n",
    "#have reached a plateau; they are close and fairly high.\n",
    "#If a model is underfitting, adding more training examples will not help - you need to use a more complex model or create\n",
    "#better features\n",
    "\n",
    "lin_reg = LinearRegression()\n",
    "plot_learning_curves(lin_reg, X, y)"
   ]
  },
  {
   "cell_type": "code",
   "execution_count": 133,
   "metadata": {
    "ExecuteTime": {
     "end_time": "2020-07-29T17:49:29.109832Z",
     "start_time": "2020-07-29T17:49:28.959642Z"
    }
   },
   "outputs": [
    {
     "data": {
      "text/plain": [
       "(0.0, 5.0)"
      ]
     },
     "execution_count": 133,
     "metadata": {},
     "output_type": "execute_result"
    },
    {
     "data": {
      "image/png": "[encoded data removed]",
      "text/plain": [
       "<Figure size 432x288 with 1 Axes>"
      ]
     },
     "metadata": {
      "needs_background": "light"
     },
     "output_type": "display_data"
    }
   ],
   "source": [
    "#Now for the learning curve of a 10th degree polynomial fitting (noisy) quadratic data. There are two key differences\n",
    "#to the previous learning curve: (1) the error on the training data is much lower than the simpler Linear Regression model\n",
    "#(2) there is a gap between the curves, meaning that the model performs significantly better on the training set than the\n",
    "#validation set - the hallmark of overfitting. Using a much larger training set would mean that the curves would continue\n",
    "#to get closer, since the ratio of the training data points to model complexity (/VC dimension) will become closer to 10, \n",
    "#the 'rule of thumb' for the recommended ratio. We can see that the curves do converge as the training set size increases.\n",
    "\n",
    "from sklearn.pipeline import Pipeline\n",
    "\n",
    "polynomial_regression = Pipeline([\n",
    "    (\"poly_features\", PolynomialFeatures(degree=10, include_bias=False)),\n",
    "    (\"lin_reg\", LinearRegression())\n",
    "])\n",
    "\n",
    "plot_learning_curves(polynomial_regression, X, y)\n",
    "plt.ylim(0, 5)"
   ]
  },
  {
   "cell_type": "code",
   "execution_count": 134,
   "metadata": {
    "ExecuteTime": {
     "end_time": "2020-07-29T18:27:31.905421Z",
     "start_time": "2020-07-29T18:27:31.896995Z"
    }
   },
   "outputs": [
    {
     "data": {
      "text/plain": [
       "array([[4.82497007]])"
      ]
     },
     "execution_count": 134,
     "metadata": {},
     "output_type": "execute_result"
    }
   ],
   "source": [
    "#Regularization (i.e. constraining a model/reducing the number of degrees of freedom) makes it harder to overfit the data.\n",
    "#Polynomial models are generally regualrized by reducing the number of polynomial degrees, while linear models are\n",
    "#regularized by constraining the weights - three main ways are Ridge Regression, Lasso Regression, and Elastic Net\n",
    "\n",
    "#Ridge regression (or Tikhonov regularization) is a regularized version of Linear Regression: a regularization term equal\n",
    "#to (α/2)*Σθi^2, from i=1 to n, is added to the cost function. N.B. if w is the vector or feature weights (theta1 to thetan\n",
    "#not including theta0), the regularization term is equal to (1/2)*||w||^2, half the square of the l2 norm of w). This \n",
    "#forces the algorithm to both fit the data and keep the model weights as small as possible (note the regularization term \n",
    "#is only added to the cost function during training). Alpha controls how much you want to regularize the model - if alpha\n",
    "#is large, then all weights end up close to zero and we have a flat line through the data's mean, while alpha = 0 is just \n",
    "#Linear Regression. It is important to scale the data (e.g. using StandardScaler) before Ridge Regression, as like most\n",
    "#regularized models it is sensitive to the scale of the input features. Note that scaling needs to be applied to all\n",
    "#features, so if using PolynomialFeatures (i.e. transforming to a non-linear space) do scaling after the transformation.\n",
    "#On polynomial models, higher alpha leads to flatter (less extreme, more reasonable) predictions, thus reducing the model's\n",
    "#variance but increasing its bias.\n",
    "\n",
    "#N.B. It is quite common for the cost function used during training to be different from the performance measure used \n",
    "#for testing. Apart from regularization, another reason they might be different is that a good training cost function \n",
    "#should have optimization-friendly derivatives, while the performance measure used for testing should be as close as \n",
    "#possible to the final objective. For example, classifiers are often trained using a cost function such as the log loss \n",
    "#(discussed in a moment) but evaluated using precision/recall.\n",
    "\n",
    "#Like Linear Regression, we have the option of a closed-form solution and GD to perform Ridge Regression - the pros and \n",
    "#cons are the same. \n",
    "\n",
    "#Here is Ridge Regression using a closed-form solution (a variant that uses a matrix factorization technique by\n",
    "#Cholesky).\n",
    "\n",
    "from sklearn.linear_model import Ridge\n",
    "\n",
    "ridge_reg = Ridge(alpha=1, solver='cholesky')\n",
    "ridge_reg.fit(X, y)\n",
    "ridge_reg.predict([[1.5]])"
   ]
  },
  {
   "cell_type": "code",
   "execution_count": 137,
   "metadata": {
    "ExecuteTime": {
     "end_time": "2020-07-29T18:30:13.537469Z",
     "start_time": "2020-07-29T18:30:13.531704Z"
    }
   },
   "outputs": [
    {
     "data": {
      "text/plain": [
       "(array([4.77915875]), array([[4.80772685]]))"
      ]
     },
     "execution_count": 137,
     "metadata": {},
     "output_type": "execute_result"
    }
   ],
   "source": [
    "#or using SGD. Can alternatively use the Ridge class with the \"sag\" (Stochastic Average GD) solver - a variant of SGD.\n",
    "\n",
    "sgd_reg = SGDRegressor(penalty='l2') #penalty hyperparameter sets the regularization term to use\n",
    "sgd_reg.fit(X, y.ravel())\n",
    "\n",
    "ridge_reg = Ridge(alpha=1, solver='sag')\n",
    "ridge_reg.fit(X, y)\n",
    "\n",
    "sgd_reg.predict([[1.5]]), ridge_reg.predict([[1.5]])"
   ]
  },
  {
   "cell_type": "code",
   "execution_count": 140,
   "metadata": {
    "ExecuteTime": {
     "end_time": "2020-07-29T20:01:39.668061Z",
     "start_time": "2020-07-29T20:01:39.664483Z"
    }
   },
   "outputs": [
    {
     "data": {
      "text/plain": [
       "array([4.77621741])"
      ]
     },
     "execution_count": 140,
     "metadata": {},
     "output_type": "execute_result"
    }
   ],
   "source": [
    "#Lasso Regression (Least Absolute Shrinkage and Selection Operator Regression) - it adds a regularization term to the cost\n",
    "#function just like Ridge regression, except it uses the l1 norm of the weight vector instead of half the square of the l2\n",
    "#norm: α*Σ|θi| from i=1 to n.\n",
    "#An important characteristic of Lasso Regression is that it tends to eliminate the weights of the least important features\n",
    "#(i.e. set them to zero). So in the case of polynomial regression, it is possible that the high-degree features are set to\n",
    "#zero - Lasso Regression automatically performs feature selection and outputs a sparse model (with few nonzero weights).\n",
    "#Ridge Regression is different in two ways: (1) the gradients get smaller as the parameters approach the global optimum,\n",
    "#so GD naturally slows down, helping convergence. Lasso Regression bounces around because the l1 norm means the gradient\n",
    "#doesnt get close to zero even at the minimum. (2)  the optimal weights of Ridge Regression get closer to zero when alpha \n",
    "#is increased, but unlike Lasso they never get eliminated entirely.\n",
    "#N.B. to avoid GD bouncing around the optimum when using Lasso, you need to gradually reduce the learning rate during\n",
    "#training (it will still bounce around, but the steps get smaller so it converges).\n",
    "\n",
    "#Note that the Lasso cost function is not differentiable for any theta_i = 0 (i=1 to n), but GD still works fine if you\n",
    "#use a subgradient vector instead when any theta_i = 0 (a subgradient vector at a nondifferentiable point is like an\n",
    "#intermediate vector between the gradient vectors around that point). \n",
    "#Subgradient vector g(theta, J) = grad(MSE) + alpha*column_vector[sign(theta_i)]\n",
    "\n",
    "#sklearn implementation of Lasso Regression; can also use SGDRegressor(penalty='l1')\n",
    "from sklearn.linear_model import Lasso\n",
    "lasso_reg = Lasso(alpha=0.1)\n",
    "lasso_reg.fit(X, y)\n",
    "lasso_reg.predict([[1.5]])"
   ]
  },
  {
   "cell_type": "code",
   "execution_count": 141,
   "metadata": {
    "ExecuteTime": {
     "end_time": "2020-07-29T20:10:13.373034Z",
     "start_time": "2020-07-29T20:10:13.369087Z"
    }
   },
   "outputs": [
    {
     "data": {
      "text/plain": [
       "array([4.78114505])"
      ]
     },
     "execution_count": 141,
     "metadata": {},
     "output_type": "execute_result"
    }
   ],
   "source": [
    "#Elastic Net is a middle ground between the two - the regularization term in a simple mix of each, controlled by the mix \n",
    "#ratio r. When r = 0, Elastic Net is equivalent to Ridge and when r = 1, it is equivalent to Lasso.\n",
    "#Cost function J(theta) = MSE + r*α*Σ|θi| + (1-r)/2 * α*Σθi^2\n",
    "\n",
    "#In general it is always good to have some regularization (i.e. avoid plain Linear Regression). Ridge is a good default, \n",
    "#but if you suspect that only a few features are useful, you should prefer Lasso or Elastic Net as they tend to reduce\n",
    "#the useless features' weights down to zero. In general, Elastic Net is preferred to Lasso as Lasso may behave erratically\n",
    "#when the number of features is greater than the number of training instances or when several features are strongly \n",
    "#correlated.\n",
    "\n",
    "#sklearn implementation of Elastic Net\n",
    "from sklearn.linear_model import ElasticNet\n",
    "elastic_net = ElasticNet(alpha=0.1, l1_ratio=0.5)\n",
    "elastic_net.fit(X, y)\n",
    "elastic_net.predict([[1.5]])"
   ]
  },
  {
   "cell_type": "code",
   "execution_count": null,
   "metadata": {
    "ExecuteTime": {
     "end_time": "2020-07-29T20:23:01.501216Z",
     "start_time": "2020-07-29T20:23:01.493857Z"
    }
   },
   "outputs": [],
   "source": [
    "#A different way to regularize iterative learning algorithms such as GD is to stop training as soon as the validation\n",
    "#error reaches a minimum - termed early stopping. \n",
    "#As the number of epochs increases, the algorithms (RMSE) prediction error on the training set will generally decrease \n",
    "#along with its prediction error on the validation set; however, after a while the validation set error may stop decreasing\n",
    "#and begin to increase, suggesting overfitting of the training data. Early stopping stops training as soon as the \n",
    "#validation error reaches a minimum.\n",
    "#The identification of this minimum can be difficult with SGD and MBGD as the curves are not so smooth. A solution is to\n",
    "#stop only after the validation error has been above the minimum for some time (when you are confident the model will not\n",
    "#do any better), then roll back the model parameters to the point where the validation error was at a minimum.\n",
    "\n",
    "#Basic implementation of early stopping\n",
    "from sklearn.base import clone\n",
    "from sklearn.preprocessing import StandardScaler\n",
    "\n",
    "#prepare the data\n",
    "poly_scaler = Pipeline([\n",
    "    ('poly_features', PolynomialFeatures(degree=90, include_bias=False)),\n",
    "    ('std_scaler', StandardScaler())\n",
    "])\n",
    "\n",
    "X_train_poly_scaled = poly_scaler.fit_transform(X_train)\n",
    "X_val_poly_scaled = poly_scaler.transform(X_val)\n",
    "\n",
    "#warm_start=True means the model continues where it left off when fit is called again, rather than restarting from \n",
    "#scratch each epoch. Note SGDRegressor() has a parameter called early_stopping (see docs)\n",
    "sgd_reg = SGDRegressor(max_iter=1, tol=-np.infty, warm_start=True,\n",
    "                      penalty=None, learning_rate='constant', eta0=0.0005) \n",
    "\n",
    "minimum_val_error = float('inf')\n",
    "best_epoch = None\n",
    "best_model = None\n",
    "\n",
    "for epoch in range(1000):\n",
    "    sgd_reg.fit(X_train_poly_scaled, y_train)\n",
    "    y_val_predict = sgd_reg.predict(X_val_poly_scaled)\n",
    "    val_error = mean_squared_error(y_val, y_val_predict)\n",
    "    if val_error < minimum_val_error:\n",
    "        minimum_val_error = val_error\n",
    "        best_epoch = epoch\n",
    "        best_model = clone(sgd_reg)"
   ]
  },
  {
   "cell_type": "code",
   "execution_count": 145,
   "metadata": {
    "ExecuteTime": {
     "end_time": "2020-07-29T20:48:18.792793Z",
     "start_time": "2020-07-29T20:48:18.754506Z"
    }
   },
   "outputs": [
    {
     "data": {
      "text/plain": [
       "['data', 'target', 'target_names', 'DESCR', 'feature_names', 'filename']"
      ]
     },
     "execution_count": 145,
     "metadata": {},
     "output_type": "execute_result"
    }
   ],
   "source": [
    "#Logistic Regression is used to estimate the probability that an instance belongs to a particular class - if the estimated\n",
    "#probability is greater than 50%, then the model predicts that the instance belongs to that class (the positive class,\n",
    "#labelled '1'), and otherwise predicts that it does not (i.e. that it belongs to the negative class, '0'). Hence it is a \n",
    "#binary classifier.\n",
    "#Like Linear Regression, Logistic Regression computes the weighted sum of the input features (plus a bias), but instead of\n",
    "#outputting the result directly it outputs the logistic of this result. The logistic, generally sigma, is a sigmoid \n",
    "#function that outputs a number between 0 and 1: sigma(t) = (1+exp^-t)^-1. Once it has estimated the probability, it \n",
    "#assigns the instance to class 1 if p > 0.5 and to class 0 if p < 0.5.\n",
    "#N.B sigma(t) < 0.5 when t < 0 and >= 0.5 when t >= 0, so a Logistic Regression model predicts 1 if the weighted sum \n",
    "#xT*theta is positive and 0 if it is negative.\n",
    "#Logistic Regression uses the log-loss cost function (large value when an instance has small p but has label is 1 or if\n",
    "#p is large and the label is 0, and small value when large p and label is 1 or if p is small and label is 0). It has no\n",
    "#closed-form solution when minimizing w.r.t. theta, so no equivalent to the Normal Equation; however, it is convex, so GD\n",
    "#or any other optimization algorithm is guarenteed to find a global minimum (if the learning rate is not too large and\n",
    "#with enough iterations).\n",
    "\n",
    "#Using the iris dataset to illustrate Logisitc Regression, contains sepal and petal length and width of 150 iris flowers\n",
    "#of three different species. Here is a classifier to detect the Iris virginica type vased only on petal width.\n",
    "from sklearn import datasets\n",
    "\n",
    "iris = datasets.load_iris()\n",
    "list(iris.keys())"
   ]
  },
  {
   "cell_type": "code",
   "execution_count": 146,
   "metadata": {
    "ExecuteTime": {
     "end_time": "2020-07-29T20:50:19.704316Z",
     "start_time": "2020-07-29T20:50:19.695331Z"
    }
   },
   "outputs": [
    {
     "data": {
      "text/plain": [
       "LogisticRegression(C=1.0, class_weight=None, dual=False, fit_intercept=True,\n",
       "                   intercept_scaling=1, l1_ratio=None, max_iter=100,\n",
       "                   multi_class='auto', n_jobs=None, penalty='l2',\n",
       "                   random_state=None, solver='lbfgs', tol=0.0001, verbose=0,\n",
       "                   warm_start=False)"
      ]
     },
     "execution_count": 146,
     "metadata": {},
     "output_type": "execute_result"
    }
   ],
   "source": [
    "from sklearn.linear_model import LogisticRegression\n",
    "\n",
    "X = iris['data'][:, 3:] #petal width\n",
    "y = (iris['target'] == 2).astype(np.int) #1 if Iris virginica, else 0\n",
    "\n",
    "log_reg = LogisticRegression()\n",
    "log_reg.fit(X, y)"
   ]
  },
  {
   "cell_type": "code",
   "execution_count": 190,
   "metadata": {
    "ExecuteTime": {
     "end_time": "2020-07-29T21:04:14.593651Z",
     "start_time": "2020-07-29T21:04:14.503012Z"
    }
   },
   "outputs": [
    {
     "data": {
      "text/plain": [
       "<matplotlib.legend.Legend at 0x7f826d591ed0>"
      ]
     },
     "execution_count": 190,
     "metadata": {},
     "output_type": "execute_result"
    },
    {
     "data": {
      "image/png": "[encoded data removed]",
      "text/plain": [
       "<Figure size 432x288 with 1 Axes>"
      ]
     },
     "metadata": {
      "needs_background": "light"
     },
     "output_type": "display_data"
    }
   ],
   "source": [
    "#Look at the model's estimated p for flowers with varying petal widths (0-3cm)\n",
    "\n",
    "X_new = np.linspace(0, 3, 1000).reshape(-1, 1)\n",
    "y_proba = log_reg.predict_proba(X_new)\n",
    "plt.plot(X_new, y_proba[:, 1], 'g-', label='Iris virginica')\n",
    "plt.plot(X_new, y_proba[:, 0], 'b--', label='Not Iris virginica')\n",
    "plt.scatter(X, y, c='r')\n",
    "plt.xlabel('Petal width (cm)'); plt.ylabel('Probability')\n",
    "plt.axis([0,3,0,1])\n",
    "plt.legend()"
   ]
  },
  {
   "cell_type": "code",
   "execution_count": 155,
   "metadata": {
    "ExecuteTime": {
     "end_time": "2020-07-29T20:55:08.383459Z",
     "start_time": "2020-07-29T20:55:08.380931Z"
    }
   },
   "outputs": [
    {
     "data": {
      "text/plain": [
       "array([[9.99250016e-01, 7.49984089e-04],\n",
       "       [9.99240201e-01, 7.59799387e-04],\n",
       "       [9.99230257e-01, 7.69743043e-04],\n",
       "       ...,\n",
       "       [3.08374822e-03, 9.96916252e-01],\n",
       "       [3.04400296e-03, 9.96955997e-01],\n",
       "       [3.00476842e-03, 9.96995232e-01]])"
      ]
     },
     "execution_count": 155,
     "metadata": {},
     "output_type": "execute_result"
    }
   ],
   "source": [
    "y_proba"
   ]
  },
  {
   "cell_type": "code",
   "execution_count": 191,
   "metadata": {
    "ExecuteTime": {
     "end_time": "2020-07-29T21:05:25.791797Z",
     "start_time": "2020-07-29T21:05:25.789268Z"
    }
   },
   "outputs": [
    {
     "data": {
      "text/plain": [
       "array([1, 0])"
      ]
     },
     "execution_count": 191,
     "metadata": {},
     "output_type": "execute_result"
    }
   ],
   "source": [
    "log_reg.predict([[1.7], [1.5]]) #Decision boundary at around 1.6cm, where both probabilites are 50%"
   ]
  },
  {
   "cell_type": "code",
   "execution_count": 192,
   "metadata": {
    "ExecuteTime": {
     "end_time": "2020-07-29T22:31:39.717612Z",
     "start_time": "2020-07-29T22:31:39.715659Z"
    }
   },
   "outputs": [],
   "source": [
    "#N.B. Just like the other linear models, Logistic Regression models can be regularized using ℓ1 or ℓ2 penalties. \n",
    "#Scikit-Learn actually adds an ℓ2 penalty by default. The hyperparameter controlling the regularization strength of a\n",
    "#Scikit-Learn LogisticRegression model is not alpha (as in other linear models), but its inverse: C. The higher the value \n",
    "#of C, the less the model is regularized."
   ]
  },
  {
   "cell_type": "code",
   "execution_count": 193,
   "metadata": {
    "ExecuteTime": {
     "end_time": "2020-07-29T22:50:24.946886Z",
     "start_time": "2020-07-29T22:50:24.945290Z"
    }
   },
   "outputs": [],
   "source": [
    "#Softmax Regression - allows Logistic Regression to be generalized to support multiple classes directly. When given an \n",
    "#instance x, the Softmax model first computes a score s_k(x) for each class k, then estimates the probability of each class\n",
    "#by appluing the softmax function (the normalized exponential) to the scores. The scores s_k(x) = xT*theta^(k), where each\n",
    "#class has a dedicated parameter vector theta^(k). These vectors are typically stored as rows in a parameter matrix. Once\n",
    "#the score of every class is calculated, the probability the instance belongs to class k is given by the normalized\n",
    "#exponential of the score s_k(x), where the normalization is over all classes K - the Softmax classifier then predicts\n",
    "#the class with the highest estimated probability, which is simply the class with the highest score s_k(x).\n",
    "#N.B. the Softmax Regression classifier predicts only one class at a time (i.e. it is multiclass, not multioutput), so\n",
    "#it should only be used with mutually exclusive classes, such as different types of plants - it cannot be used to recognise\n",
    "#multiple people in one picture, for example."
   ]
  },
  {
   "cell_type": "code",
   "execution_count": 199,
   "metadata": {
    "ExecuteTime": {
     "end_time": "2020-07-29T23:08:59.233453Z",
     "start_time": "2020-07-29T23:08:59.222508Z"
    }
   },
   "outputs": [
    {
     "data": {
      "text/plain": [
       "LogisticRegression(C=10, class_weight=None, dual=False, fit_intercept=True,\n",
       "                   intercept_scaling=1, l1_ratio=None, max_iter=100,\n",
       "                   multi_class='multinomial', n_jobs=None, penalty='l2',\n",
       "                   random_state=None, solver='lbfgs', tol=0.0001, verbose=0,\n",
       "                   warm_start=False)"
      ]
     },
     "execution_count": 199,
     "metadata": {},
     "output_type": "execute_result"
    }
   ],
   "source": [
    "#The cross entropy cost function is used in training as it penalizes the model when it estimates a low probability for the\n",
    "#target class. Cross entropy is frequently used to measure how well a set of estimated class probabilities matches the \n",
    "#target classes. The form of the cross entropy equation reduces to the log loss cost function of Logistic Regression \n",
    "#when there are just two classes (K = 2). \n",
    "#We can use GD (or any other optimization algorithm) to find the parameter matrix that minimizes the cost function.\n",
    "\n",
    "#Let’s use Softmax Regression to classify the iris flowers into all three classes - sklearn's LogisticRegression uses \n",
    "#one-versus-the-rest (OvR) by default when you train it on more than two classes, but you can set the multi_class \n",
    "#hyperparameter to \"multinomial\" to switch it to Softmax Regression. You must also specify a solver that supports \n",
    "#Softmax Regression, such as the \"lbfgs\" solver (a type of optimization algorithm, see docs). It also applies ℓ2 \n",
    "#regularization by default, which you can control using the hyperparameter C:\n",
    "\n",
    "X = iris['data'][:, (2,3)] #petal length, petal width\n",
    "y = iris['target']\n",
    "\n",
    "softmax_reg = LogisticRegression(multi_class='multinomial', solver='lbfgs', C=10)\n",
    "softmax_reg.fit(X, y)"
   ]
  },
  {
   "cell_type": "code",
   "execution_count": 203,
   "metadata": {
    "ExecuteTime": {
     "end_time": "2020-07-29T23:13:14.061002Z",
     "start_time": "2020-07-29T23:13:14.058223Z"
    }
   },
   "outputs": [
    {
     "data": {
      "text/plain": [
       "(array([1]), array([[0.33299228, 0.37074148, 0.29626624]]))"
      ]
     },
     "execution_count": 203,
     "metadata": {},
     "output_type": "execute_result"
    }
   ],
   "source": [
    "#N.B. the model can predict a class that has a probability below 50% - e.g. at the point in feature space where all \n",
    "#decision boundaries meet and all classes have equal estimated probability of 33%. Also note that the decision boundaries\n",
    "#between any two classes are linear.\n",
    "softmax_reg.predict([[2.6,3.1]]), softmax_reg.predict_proba([[2.6,3.1]])"
   ]
  },
  {
   "cell_type": "code",
   "execution_count": null,
   "metadata": {},
   "outputs": [],
   "source": []
  }
 ],
 "metadata": {
  "kernelspec": {
   "display_name": "Python 3",
   "language": "python",
   "name": "python3"
  },
  "language_info": {
   "codemirror_mode": {
    "name": "ipython",
    "version": 3
   },
   "file_extension": ".py",
   "mimetype": "text/x-python",
   "name": "python",
   "nbconvert_exporter": "python",
   "pygments_lexer": "ipython3",
   "version": "3.7.4"
  },
  "toc": {
   "base_numbering": 1,
   "nav_menu": {},
   "number_sections": true,
   "sideBar": true,
   "skip_h1_title": false,
   "title_cell": "Table of Contents",
   "title_sidebar": "Contents",
   "toc_cell": false,
   "toc_position": {},
   "toc_section_display": true,
   "toc_window_display": false
  },
  "varInspector": {
   "cols": {
    "lenName": 16,
    "lenType": 16,
    "lenVar": 40
   },
   "kernels_config": {
    "python": {
     "delete_cmd_postfix": "",
     "delete_cmd_prefix": "del ",
     "library": "var_list.py",
     "varRefreshCmd": "print(var_dic_list())"
    },
    "r": {
     "delete_cmd_postfix": ") ",
     "delete_cmd_prefix": "rm(",
     "library": "var_list.r",
     "varRefreshCmd": "cat(var_dic_list()) "
    }
   },
   "types_to_exclude": [
    "module",
    "function",
    "builtin_function_or_method",
    "instance",
    "_Feature"
   ],
   "window_display": false
  }
 },
 "nbformat": 4,
 "nbformat_minor": 4
}
